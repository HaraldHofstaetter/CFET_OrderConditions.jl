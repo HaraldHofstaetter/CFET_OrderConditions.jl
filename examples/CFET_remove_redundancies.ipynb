{
 "cells": [
  {
   "cell_type": "code",
   "execution_count": 1,
   "metadata": {
    "collapsed": false
   },
   "outputs": [
    {
     "name": "stderr",
     "output_type": "stream",
     "text": [
      "WARNING: Method definition factorial(#T<:Integer, #T<:Integer) in module Base at combinatorics.jl:56 overwritten in module Combinatorics at /home/hofi/.julia/v0.4/Combinatorics/src/factorials.jl:18.\n",
      "WARNING: Method definition factorial(Integer, Integer) in module Base at combinatorics.jl:66 overwritten in module Combinatorics at /home/hofi/.julia/v0.4/Combinatorics/src/factorials.jl:28.\n",
      "WARNING: Method definition combinations(Any, Integer) in module Base at combinatorics.jl:182 overwritten in module Combinatorics at /home/hofi/.julia/v0.4/Combinatorics/src/combinations.jl:42.\n",
      "WARNING: Method definition permutations(Any) in module Base at combinatorics.jl:219 overwritten in module Combinatorics at /home/hofi/.julia/v0.4/Combinatorics/src/permutations.jl:24.\n",
      "WARNING: Method definition nthperm!(AbstractArray{T<:Any, 1}, Integer) in module Base at combinatorics.jl:70 overwritten in module Combinatorics at /home/hofi/.julia/v0.4/Combinatorics/src/permutations.jl:136.\n",
      "WARNING: Method definition nthperm(AbstractArray{T<:Any, 1}, Integer) in module Base at combinatorics.jl:89 overwritten in module Combinatorics at /home/hofi/.julia/v0.4/Combinatorics/src/permutations.jl:157.\n",
      "WARNING: Method definition nthperm(AbstractArray{#T<:Integer, 1}) in module Base at combinatorics.jl:92 overwritten in module Combinatorics at /home/hofi/.julia/v0.4/Combinatorics/src/permutations.jl:161.\n",
      "WARNING: Method definition levicivita(AbstractArray{#T<:Integer, 1}) in module Base at combinatorics.jl:611 overwritten in module Combinatorics at /home/hofi/.julia/v0.4/Combinatorics/src/permutations.jl:188.\n",
      "WARNING: Method definition parity(AbstractArray{#T<:Integer, 1}) in module Base at combinatorics.jl:642 overwritten in module Combinatorics at /home/hofi/.julia/v0.4/Combinatorics/src/permutations.jl:221.\n",
      "WARNING: Method definition partitions(Integer) in module Base at combinatorics.jl:252 overwritten in module Combinatorics at /home/hofi/.julia/v0.4/Combinatorics/src/partitions.jl:26.\n",
      "WARNING: Method definition partitions(Integer, Integer) in module Base at combinatorics.jl:318 overwritten in module Combinatorics at /home/hofi/.julia/v0.4/Combinatorics/src/partitions.jl:93.\n",
      "WARNING: Method definition partitions(AbstractArray{T<:Any, 1}) in module Base at combinatorics.jl:380 overwritten in module Combinatorics at /home/hofi/.julia/v0.4/Combinatorics/src/partitions.jl:158.\n",
      "WARNING: Method definition partitions(AbstractArray{T<:Any, 1}, Int64) in module Base at combinatorics.jl:447 overwritten in module Combinatorics at /home/hofi/.julia/v0.4/Combinatorics/src/partitions.jl:228.\n",
      "WARNING: Method definition prevprod(Array{Int64, 1}, Any) in module Base at combinatorics.jl:565 overwritten in module Combinatorics at /home/hofi/.julia/v0.4/Combinatorics/src/partitions.jl:354.\n"
     ]
    }
   ],
   "source": [
    "using CFET_OrderConditions\n",
    "using Giac"
   ]
  },
  {
   "cell_type": "code",
   "execution_count": 2,
   "metadata": {
    "collapsed": false
   },
   "outputs": [],
   "source": [
    "bb = vcat([[giac(string(\"b\",j,\"_\",q)) for j=1:4] for q=0:4]);"
   ]
  },
  {
   "cell_type": "code",
   "execution_count": 3,
   "metadata": {
    "collapsed": false
   },
   "outputs": [
    {
     "data": {
      "text/plain": [
       "5-element Array{Dict{Array{Array{Int64,1},1},Giac.giac},1}:\n",
       " Dict{Array{Array{Int64,1},1},Giac.giac}([[0]]=>b2_0+b1_0-1)                                                                                                                                                                                                                                                                                                                                                                                                                                                                                                                                                                                                                                                                                                                                                                                                                                                                                                                                                                                                                                                                                                                                                                                                                                                                                                                                                                                                                                                                                                                                                                                                                                                                                                                             \n",
       " Dict{Array{Array{Int64,1},1},Giac.giac}([[1]]=>2*b2_1+2*b1_1-1,[[0],[0]]=>(b2_0+b1_0)*(b2_0+b1_0-1))                                                                                                                                                                                                                                                                                                                                                                                                                                                                                                                                                                                                                                                                                                                                                                                                                                                                                                                                                                                                                                                                                                                                                                                                                                                                                                                                                                                                                                                                                                                                                                                                                                                                                    \n",
       " Dict{Array{Array{Int64,1},1},Giac.giac}([[1],[0]]=>6*b2_1*b1_0+3*b2_1*b2_0+3*b1_0*b1_1-2*b1_0-2*b2_0,[[2]]=>3*b2_2+3*b1_2-1,[[0],[0],[0]]=>(b2_0+b1_0)^2*(b2_0+b1_0-1),[[0],[1]]=>6*b2_0*b1_1+3*b2_0*b2_1+3*b1_1*b1_0-2*b1_1-2*b2_1)                                                                                                                                                                                                                                                                                                                                                                                                                                                                                                                                                                                                                                                                                                                                                                                                                                                                                                                                                                                                                                                                                                                                                                                                                                                                                                                                                                                                                                                                                                                                                    \n",
       " Dict{Array{Array{Int64,1},1},Giac.giac}([[2],[0]]=>3*(4*b2_2*b1_0+2*b2_2*b2_0+2*b1_0*b1_2-b1_0-b2_0),[[1],[0],[0]]=>12*b2_1*b1_0^2+12*b2_1*b1_0*b2_0+4*b2_1*b2_0^2+4*b1_0^2*b1_1-3*b1_0^2-6*b1_0*b2_0-3*b2_0^2,[[0],[0],[1]]=>12*b1_1*b2_0^2+12*b1_1*b2_0*b1_0-6*b1_1*b2_0+4*b1_1*b1_0^2-3*b1_1*b1_0+4*b2_0^2*b2_1-3*b2_0*b2_1,[[3]]=>4*b2_3+4*b1_3-1,[[0],[1],[0]]=>4*b1_1*b1_0^2+12*b1_1*b1_0*b2_0-3*b1_1*b1_0+12*b1_0*b2_0*b2_1-6*b1_0*b2_1+4*b2_0^2*b2_1-3*b2_0*b2_1,[[1],[1]]=>6*(b2_1+b1_1)*(2*b2_1+2*b1_1-1),[[0],[2]]=>3*(4*b2_0*b1_2+2*b2_0*b2_2+2*b1_2*b1_0-b1_2-b2_2),[[0],[0],[0],[0]]=>(b2_0+b1_0)^3*(b2_0+b1_0-1))                                                                                                                                                                                                                                                                                                                                                                                                                                                                                                                                                                                                                                                                                                                                                                                                                                                                                                                                                                                                                                                                                                                                                        \n",
       " Dict{Array{Array{Int64,1},1},Giac.giac}([[1],[2]]=>6*(10*b2_1*b1_2+5*b2_1*b2_2+5*b1_2*b1_1-2*b1_2-2*b2_2),[[0],[0],[1],[0]]=>5*b1_1*b1_0^3+20*b1_1*b1_0^2*b2_0-4*b1_1*b1_0^2+30*b1_1*b1_0*b2_0^2-12*b1_1*b1_0*b2_0+20*b1_0*b2_0^2*b2_1-12*b1_0*b2_0*b2_1+5*b2_0^3*b2_1-4*b2_0^2*b2_1,[[1],[0],[0],[0]]=>20*b2_1*b1_0^3+30*b2_1*b1_0^2*b2_0+20*b2_1*b1_0*b2_0^2+5*b2_1*b2_0^3+5*b1_0^3*b1_1-4*b1_0^3-12*b1_0^2*b2_0-12*b1_0*b2_0^2-4*b2_0^3,[[0],[0],[2]]=>2*(15*b1_2*b2_0^2+15*b1_2*b2_0*b1_0-6*b1_2*b2_0+5*b1_2*b1_0^2-3*b1_2*b1_0+5*b2_0^2*b2_2-3*b2_0*b2_2),[[2],[1]]=>6*(10*b2_2*b1_1+5*b2_2*b2_1+5*b1_1*b1_2-2*b1_1-2*b2_1),[[1],[1],[0]]=>4*(15*b1_0*b2_1^2+15*b1_0*b2_1*b1_1-6*b1_0*b2_1+5*b1_0*b1_1^2-3*b1_0*b1_1+5*b2_1^2*b2_0-3*b2_1*b2_0),[[4]]=>5*b2_4+5*b1_4-1,[[0],[1],[0],[0]]=>5*b1_1*b1_0^3+20*b1_1*b1_0^2*b2_0-4*b1_1*b1_0^2+30*b1_0^2*b2_0*b2_1-12*b1_0^2*b2_1+20*b1_0*b2_0^2*b2_1-12*b1_0*b2_0*b2_1+5*b2_0^3*b2_1-4*b2_0^2*b2_1,[[0],[0],[0],[1]]=>5*b1_1*b1_0^3+20*b1_1*b1_0^2*b2_0-4*b1_1*b1_0^2+30*b1_1*b1_0*b2_0^2-12*b1_1*b1_0*b2_0+20*b1_1*b2_0^3-12*b1_1*b2_0^2+5*b2_0^3*b2_1-4*b2_0^2*b2_1,[[0],[2],[0]]=>2*(15*b1_2*b2_0*b1_0+5*b1_2*b1_0^2-3*b1_2*b1_0+5*b2_0^2*b2_2+15*b2_0*b1_0*b2_2-3*b2_0*b2_2-6*b1_0*b2_2),[[1],[0],[1]]=>4*(5*b1_0*b1_1^2+15*b1_0*b1_1*b2_1-3*b1_0*b1_1+15*b1_1*b2_1*b2_0-6*b1_1*b2_0+5*b2_1^2*b2_0-3*b2_1*b2_0),[[0],[0],[0],[0],[0]]=>(b2_0+b1_0)^4*(b2_0+b1_0-1),[[0],[3]]=>2*(10*b2_0*b1_3+5*b2_0*b2_3+5*b1_3*b1_0-2*b1_3-2*b2_3),[[2],[0],[0]]=>2*(15*b2_2*b1_0^2+15*b2_2*b1_0*b2_0+5*b2_2*b2_0^2+5*b1_0^2*b1_2-3*b1_0^2-6*b1_0*b2_0-3*b2_0^2),[[0],[1],[1]]=>4*(15*b2_0*b1_1^2+15*b2_0*b1_1*b2_1+5*b2_0*b2_1^2+5*b1_1^2*b1_0-3*b1_1^2-6*b1_1*b2_1-3*b2_1^2),[[3],[0]]=>2*(10*b2_3*b1_0+5*b2_3*b2_0+5*b1_0*b1_3-2*b1_0-2*b2_0))"
      ]
     },
     "execution_count": 3,
     "metadata": {},
     "output_type": "execute_result"
    }
   ],
   "source": [
    "D4 = gen_CFET_order_conditions(5,4)\n",
    "D3 = gen_CFET_order_conditions(5,3)\n",
    "D1 = gen_CFET_order_conditions(5,1)\n",
    "D2 = gen_CFET_order_conditions(5,2)"
   ]
  },
  {
   "cell_type": "markdown",
   "metadata": {},
   "source": [
    "$$e_A=-1 + \\sum_{j=1}^Jb_{j,0},$$\n",
    "$$e_{A'} = -1 +2\\sum_{j=1}^Jb_{j,1},$$\n",
    "$$e_{A''} = -1 +3\\sum_{j=1}^Jb_{j,2},$$\n",
    "$$e_{A'''} = -1 +4\\sum_{j=1}^Jb_{j,3},$$\n",
    "$$e_{A^{(4)}} = -1 +5\\sum_{j=1}^Jb_{j,4},$$"
   ]
  },
  {
   "cell_type": "markdown",
   "metadata": {},
   "source": [
    "## p=2"
   ]
  },
  {
   "cell_type": "code",
   "execution_count": 4,
   "metadata": {
    "collapsed": false,
    "scrolled": true
   },
   "outputs": [
    {
     "data": {
      "text/plain": [
       "(0,0,0,0)"
      ]
     },
     "execution_count": 4,
     "metadata": {},
     "output_type": "execute_result"
    }
   ],
   "source": [
    "(simplify(D1[2][Array[[0],[0]]] - (D1[1][Array[[0]]]+1)*D1[1][Array[[0]]]),\n",
    " simplify(D2[2][Array[[0],[0]]] - (D2[1][Array[[0]]]+1)*D2[1][Array[[0]]]),\n",
    " simplify(D3[2][Array[[0],[0]]] - (D3[1][Array[[0]]]+1)*D3[1][Array[[0]]]),\n",
    " simplify(D4[2][Array[[0],[0]]] - (D4[1][Array[[0]]]+1)*D4[1][Array[[0]]]))"
   ]
  },
  {
   "cell_type": "markdown",
   "metadata": {},
   "source": [
    "$$e_{AA} = (e_A+1)e_A,$$\n",
    "i.e., if $e_A=0$ then\n",
    "$$e_{AA}=0.$$"
   ]
  },
  {
   "cell_type": "markdown",
   "metadata": {},
   "source": [
    "## p=3"
   ]
  },
  {
   "cell_type": "code",
   "execution_count": 5,
   "metadata": {
    "collapsed": false
   },
   "outputs": [
    {
     "data": {
      "text/plain": [
       "(0,0,0,0)"
      ]
     },
     "execution_count": 5,
     "metadata": {},
     "output_type": "execute_result"
    }
   ],
   "source": [
    "(simplify(D1[3][Array[[0],[0],[0]]] - (D1[1][Array[[0]]]+1)^2*D1[1][Array[[0]]]),\n",
    " simplify(D2[3][Array[[0],[0],[0]]] - (D2[1][Array[[0]]]+1)^2*D2[1][Array[[0]]]),\n",
    " simplify(D3[3][Array[[0],[0],[0]]] - (D3[1][Array[[0]]]+1)^2*D3[1][Array[[0]]]),\n",
    " simplify(D4[3][Array[[0],[0],[0]]] - (D4[1][Array[[0]]]+1)^2*D4[1][Array[[0]]]))"
   ]
  },
  {
   "cell_type": "markdown",
   "metadata": {},
   "source": [
    "$$e_{AAA} = (e_A+1)^2e_A,$$\n",
    "i.e., if $e_A=0$ then\n",
    "$$e_{AAA}=0.$$"
   ]
  },
  {
   "cell_type": "code",
   "execution_count": 6,
   "metadata": {
    "collapsed": false
   },
   "outputs": [
    {
     "data": {
      "text/plain": [
       "(-1/2,(6*b1_0*b2_1-6*b1_1*b2_0-1)/2,(6*b1_0*b2_1+6*b1_0*b3_1-6*b1_1*b2_0-6*b1_1*b3_0+6*b2_0*b3_1-6*b2_1*b3_0-1)/2,(6*b1_0*b2_1+6*b1_0*b3_1+6*b1_0*b4_1-6*b1_1*b2_0-6*b1_1*b3_0-6*b1_1*b4_0+6*b2_0*b3_1+6*b2_0*b4_1-6*b2_1*b3_0-6*b2_1*b4_0+6*b3_0*b4_1-6*b3_1*b4_0-1)/2)"
      ]
     },
     "execution_count": 6,
     "metadata": {},
     "output_type": "execute_result"
    }
   ],
   "source": [
    "(x1,x2,x3,x4)=(\n",
    "    simplify(D1[3][Array[[1],[0]]] - 1//2*(D1[1][Array[[0]]]+1)*(3*D1[2][Array[[1]]]-1)-1//2),\n",
    "    simplify(D2[3][Array[[1],[0]]] - 1//2*(D2[1][Array[[0]]]+1)*(3*D2[2][Array[[1]]]-1)-1//2),\n",
    "    simplify(D3[3][Array[[1],[0]]] - 1//2*(D3[1][Array[[0]]]+1)*(3*D3[2][Array[[1]]]-1)-1//2),\n",
    "    simplify(D4[3][Array[[1],[0]]] - 1//2*(D4[1][Array[[0]]]+1)*(3*D4[2][Array[[1]]]-1)-1//2)\n",
    "    )"
   ]
  },
  {
   "cell_type": "code",
   "execution_count": 7,
   "metadata": {
    "collapsed": false
   },
   "outputs": [
    {
     "data": {
      "text/plain": [
       "(1/2,(-6*b1_0*b2_1+6*b1_1*b2_0+1)/2,(-6*b1_0*b2_1-6*b1_0*b3_1+6*b1_1*b2_0+6*b1_1*b3_0-6*b2_0*b3_1+6*b2_1*b3_0+1)/2,(-6*b1_0*b2_1-6*b1_0*b3_1-6*b1_0*b4_1+6*b1_1*b2_0+6*b1_1*b3_0+6*b1_1*b4_0-6*b2_0*b3_1-6*b2_0*b4_1+6*b2_1*b3_0+6*b2_1*b4_0-6*b3_0*b4_1+6*b3_1*b4_0+1)/2)"
      ]
     },
     "execution_count": 7,
     "metadata": {},
     "output_type": "execute_result"
    }
   ],
   "source": [
    "(y1,y2,y3,y4)=(  \n",
    "    simplify(D1[3][Array[[0],[1]]] - 1//2*(3*D1[1][Array[[0]]]+1)*(D1[2][Array[[1]]]+1)+1//2),\n",
    "    simplify(D2[3][Array[[0],[1]]] - 1//2*(3*D2[1][Array[[0]]]+1)*(D2[2][Array[[1]]]+1)+1//2),\n",
    "    simplify(D3[3][Array[[0],[1]]] - 1//2*(3*D3[1][Array[[0]]]+1)*(D3[2][Array[[1]]]+1)+1//2),\n",
    "    simplify(D4[3][Array[[0],[1]]] - 1//2*(3*D4[1][Array[[0]]]+1)*(D4[2][Array[[1]]]+1)+1//2)\n",
    "    )"
   ]
  },
  {
   "cell_type": "code",
   "execution_count": 8,
   "metadata": {
    "collapsed": false
   },
   "outputs": [
    {
     "data": {
      "text/plain": [
       "(0,0,0,0)"
      ]
     },
     "execution_count": 8,
     "metadata": {},
     "output_type": "execute_result"
    }
   ],
   "source": [
    "(simplify(y1+x1), simplify(y2+x2), simplify(y3+x3), simplify(y3+x3))"
   ]
  },
  {
   "cell_type": "markdown",
   "metadata": {},
   "source": [
    "$$e_{A'A} - \\frac{1}{2}(e_A+1)(3e_{A'}-1)-\\frac{1}{2} = -e_{AA'} + \\frac{1}{2}(3e_A+1)(e_{A'}+1)-\\frac{1}{2},$$\n",
    "i.e., if $e_A=e_{A'}=e_{AA'}=0$ then\n",
    "$$e_{A'A} = 0.$$"
   ]
  },
  {
   "cell_type": "markdown",
   "metadata": {},
   "source": [
    "## p=4"
   ]
  },
  {
   "cell_type": "code",
   "execution_count": 9,
   "metadata": {
    "collapsed": false
   },
   "outputs": [
    {
     "data": {
      "text/plain": [
       "(0,0,0,0)"
      ]
     },
     "execution_count": 9,
     "metadata": {},
     "output_type": "execute_result"
    }
   ],
   "source": [
    "(simplify(D1[4][Array[[0],[0],[0],[0]]] - (D1[1][Array[[0]]]+1)^3*D1[1][Array[[0]]]),\n",
    " simplify(D2[4][Array[[0],[0],[0],[0]]] - (D2[1][Array[[0]]]+1)^3*D2[1][Array[[0]]]),\n",
    " simplify(D3[4][Array[[0],[0],[0],[0]]] - (D3[1][Array[[0]]]+1)^3*D3[1][Array[[0]]]),\n",
    " simplify(D4[4][Array[[0],[0],[0],[0]]] - (D4[1][Array[[0]]]+1)^3*D4[1][Array[[0]]]))"
   ]
  },
  {
   "cell_type": "markdown",
   "metadata": {},
   "source": [
    "$$e_{AAAA} = (e_A+1)^3e_A,$$\n",
    "i.e., if $e_A=0$ then\n",
    "$$e_{AAAA}=0.$$"
   ]
  },
  {
   "cell_type": "code",
   "execution_count": 10,
   "metadata": {
    "collapsed": false
   },
   "outputs": [
    {
     "data": {
      "text/plain": [
       "(0,0,0,0)"
      ]
     },
     "execution_count": 10,
     "metadata": {},
     "output_type": "execute_result"
    }
   ],
   "source": [
    "(simplify(D1[4][Array[[1],[1]]] - 3*D1[2][Array[[1]]]*(D1[2][Array[[1]]]+1)),\n",
    " simplify(D2[4][Array[[1],[1]]] - 3*D2[2][Array[[1]]]*(D2[2][Array[[1]]]+1)),\n",
    " simplify(D3[4][Array[[1],[1]]] - 3*D3[2][Array[[1]]]*(D3[2][Array[[1]]]+1)),\n",
    " simplify(D4[4][Array[[1],[1]]] - 3*D4[2][Array[[1]]]*(D4[2][Array[[1]]]+1)))"
   ]
  },
  {
   "cell_type": "markdown",
   "metadata": {},
   "source": [
    "$$e_{A'A'} = 3e_{A'}(e_{A'}+1),$$\n",
    "i.e., if $e_{A'}=0$ then\n",
    "$$e_{A'A'} = 0.$$"
   ]
  },
  {
   "cell_type": "code",
   "execution_count": 11,
   "metadata": {
    "collapsed": false
   },
   "outputs": [
    {
     "data": {
      "text/plain": [
       "(-1,6*b1_0*b2_2-6*b1_2*b2_0-1,6*b1_0*b2_2+6*b1_0*b3_2-6*b1_2*b2_0-6*b1_2*b3_0+6*b2_0*b3_2-6*b2_2*b3_0-1,6*b1_0*b2_2+6*b1_0*b3_2+6*b1_0*b4_2-6*b1_2*b2_0-6*b1_2*b3_0-6*b1_2*b4_0+6*b2_0*b3_2+6*b2_0*b4_2-6*b2_2*b3_0-6*b2_2*b4_0+6*b3_0*b4_2-6*b3_2*b4_0-1)"
      ]
     },
     "execution_count": 11,
     "metadata": {},
     "output_type": "execute_result"
    }
   ],
   "source": [
    "(x1,x2,x3,x4) = (\n",
    "    simplify(D1[4][Array[[2],[0]]] - (D1[1][Array[[0]]]+1)*(2*D1[3][Array[[2]]]-1)-1),\n",
    "    simplify(D2[4][Array[[2],[0]]] - (D2[1][Array[[0]]]+1)*(2*D2[3][Array[[2]]]-1)-1), \n",
    "    simplify(D3[4][Array[[2],[0]]] - (D3[1][Array[[0]]]+1)*(2*D3[3][Array[[2]]]-1)-1), \n",
    "    simplify(D4[4][Array[[2],[0]]] - (D4[1][Array[[0]]]+1)*(2*D4[3][Array[[2]]]-1)-1)\n",
    "    )"
   ]
  },
  {
   "cell_type": "code",
   "execution_count": 12,
   "metadata": {
    "collapsed": false
   },
   "outputs": [
    {
     "data": {
      "text/plain": [
       "(1,-6*b1_0*b2_2+6*b1_2*b2_0+1,-6*b1_0*b2_2-6*b1_0*b3_2+6*b1_2*b2_0+6*b1_2*b3_0-6*b2_0*b3_2+6*b2_2*b3_0+1,-6*b1_0*b2_2-6*b1_0*b3_2-6*b1_0*b4_2+6*b1_2*b2_0+6*b1_2*b3_0+6*b1_2*b4_0-6*b2_0*b3_2-6*b2_0*b4_2+6*b2_2*b3_0+6*b2_2*b4_0-6*b3_0*b4_2+6*b3_2*b4_0+1)"
      ]
     },
     "execution_count": 12,
     "metadata": {},
     "output_type": "execute_result"
    }
   ],
   "source": [
    "(y1,y2, y3, y4) = (\n",
    "    simplify(D1[4][Array[[0],[2]]] - (2*D1[1][Array[[0]]]+1)*(D1[3][Array[[2]]]+1)+1),\n",
    "    simplify(D2[4][Array[[0],[2]]] - (2*D2[1][Array[[0]]]+1)*(D2[3][Array[[2]]]+1)+1),\n",
    "    simplify(D3[4][Array[[0],[2]]] - (2*D3[1][Array[[0]]]+1)*(D3[3][Array[[2]]]+1)+1),\n",
    "    simplify(D4[4][Array[[0],[2]]] - (2*D4[1][Array[[0]]]+1)*(D4[3][Array[[2]]]+1)+1)\n",
    "    )"
   ]
  },
  {
   "cell_type": "code",
   "execution_count": 13,
   "metadata": {
    "collapsed": false
   },
   "outputs": [
    {
     "data": {
      "text/plain": [
       "(0,0,0,0)"
      ]
     },
     "execution_count": 13,
     "metadata": {},
     "output_type": "execute_result"
    }
   ],
   "source": [
    "(simplify(y1+x1), simplify(y2+x2), simplify(y3+x3), simplify(y3+x3))"
   ]
  },
  {
   "cell_type": "markdown",
   "metadata": {},
   "source": [
    "$$e_{A''A}-(e_A+1)(2e_{A''}-1)-1 = -e_{AA''}+(2e_A+1)(e_{A''}+1)-1,$$\n",
    "i.e., if $e_A=e_{A''}=e_{AA''}=0$ then\n",
    "$$e_{A''A}=0.$$"
   ]
  },
  {
   "cell_type": "code",
   "execution_count": 14,
   "metadata": {
    "collapsed": false
   },
   "outputs": [
    {
     "data": {
      "text/plain": [
       "(0,0,0,0)"
      ]
     },
     "execution_count": 14,
     "metadata": {},
     "output_type": "execute_result"
    }
   ],
   "source": [
    "(simplify(D1[4][Array[[1],[0],[0]]]-D1[4][Array[[0],[0],[1]]]\n",
    "  -D1[3][Array[[1],[0]]]+4*D1[1][Array[[0]]] +3*D1[1][Array[[0]]]^2 -(2*D1[3][Array[[1],[0]]] \n",
    "  -(D1[1][Array[[0]]]+1)*(3*D1[2][Array[[1]]]-1))*(2*D1[1][Array[[0]]]+1)+1),\n",
    "simplify(D2[4][Array[[1],[0],[0]]]-D2[4][Array[[0],[0],[1]]]\n",
    "  -D2[3][Array[[1],[0]]]+4*D2[1][Array[[0]]] +3*D2[1][Array[[0]]]^2 -(2*D2[3][Array[[1],[0]]] \n",
    "  -(D2[1][Array[[0]]]+1)*(3*D2[2][Array[[1]]]-1))*(2*D2[1][Array[[0]]]+1)+1),\n",
    "simplify(D3[4][Array[[1],[0],[0]]]-D3[4][Array[[0],[0],[1]]]\n",
    "  -D3[3][Array[[1],[0]]]+4*D3[1][Array[[0]]] +3*D3[1][Array[[0]]]^2 -(2*D3[3][Array[[1],[0]]] \n",
    "  -(D3[1][Array[[0]]]+1)*(3*D3[2][Array[[1]]]-1))*(2*D3[1][Array[[0]]]+1)+1),\n",
    "simplify(D4[4][Array[[1],[0],[0]]]-D4[4][Array[[0],[0],[1]]]\n",
    "  -D4[3][Array[[1],[0]]]+4*D4[1][Array[[0]]] +3*D4[1][Array[[0]]]^2 -(2*D4[3][Array[[1],[0]]] \n",
    "  -(D4[1][Array[[0]]]+1)*(3*D4[2][Array[[1]]]-1))*(2*D4[1][Array[[0]]]+1)+1))"
   ]
  },
  {
   "cell_type": "markdown",
   "metadata": {},
   "source": [
    "$$e_{AAA'}=e_{A'AA}-e_{A'A}+4e_A+3e_A^2-\\big(2e_{A'A}-(e_A+1)(3e_{A'}-1)\\big)(2e_A+1)+1,$$\n",
    "i.e., if $e_A=e_{A'}=e_{A'A}=e_{A'AA}=0$ then\n",
    "$$e_{AAA'} = 0.$$"
   ]
  },
  {
   "cell_type": "code",
   "execution_count": 15,
   "metadata": {
    "collapsed": false
   },
   "outputs": [
    {
     "data": {
      "text/plain": [
       "6*e0^2*e1+e0^2+9*e0*e1-4*e0*e10+e0+3*e1-3*e10"
      ]
     },
     "execution_count": 15,
     "metadata": {},
     "output_type": "execute_result"
    }
   ],
   "source": [
    "\"-e10+4*e0+3*e0^2-(2*e10-(e0+1)*(3*e1-1))*(2*e0+1)+1\" |> giac |>simplify"
   ]
  },
  {
   "cell_type": "markdown",
   "metadata": {},
   "source": [
    "$$e_{AAA'}=e_{A'AA}+6e_A^2e_{A'}+e_A^2+9e_Ae_{A'}-4e_Ae_{A'A}+e_A+3e_{A'}-3e_{A'A}$$"
   ]
  },
  {
   "cell_type": "code",
   "execution_count": 16,
   "metadata": {
    "collapsed": false
   },
   "outputs": [
    {
     "data": {
      "text/plain": [
       "(0,0,0,0)"
      ]
     },
     "execution_count": 16,
     "metadata": {},
     "output_type": "execute_result"
    }
   ],
   "source": [
    "(simplify(D1[4][Array[[0],[1],[0]]]+2*D1[4][Array[[1],[0],[0]]]\n",
    "-(D1[3][Array[[1],[0]]]-1)*(4*D1[1][Array[[0]]]+3)-2*(D1[1][Array[[0]]]+1)*(D1[1][Array[[0]]]+2)+1),\n",
    "simplify(D2[4][Array[[0],[1],[0]]]+2*D2[4][Array[[1],[0],[0]]]\n",
    "-(D2[3][Array[[1],[0]]]-1)*(4*D2[1][Array[[0]]]+3)-2*(D2[1][Array[[0]]]+1)*(D2[1][Array[[0]]]+2)+1),\n",
    "simplify(D3[4][Array[[0],[1],[0]]]+2*D3[4][Array[[1],[0],[0]]]\n",
    "-(D3[3][Array[[1],[0]]]-1)*(4*D3[1][Array[[0]]]+3)-2*(D3[1][Array[[0]]]+1)*(D3[1][Array[[0]]]+2)+1),\n",
    "simplify(D4[4][Array[[0],[1],[0]]]+2*D4[4][Array[[1],[0],[0]]]\n",
    "-(D4[3][Array[[1],[0]]]-1)*(4*D4[1][Array[[0]]]+3)-2*(D4[1][Array[[0]]]+1)*(D4[1][Array[[0]]]+2)+1)\n",
    ")"
   ]
  },
  {
   "cell_type": "markdown",
   "metadata": {},
   "source": [
    "$$e_{AA'A}=-2e_{A'AA}+(e_{A'A}-1)(4e_A+3)+2(e_A+1)(e_A+2)-1,$$\n",
    "i.e., if $e_A=e_{A'A}=e_{A'AA}=0$ then\n",
    "$$e_{AA'A} = 0.$$"
   ]
  },
  {
   "cell_type": "code",
   "execution_count": 17,
   "metadata": {
    "collapsed": false
   },
   "outputs": [
    {
     "data": {
      "text/plain": [
       "2*e0^2+4*e0*e10+2*e0+3*e10"
      ]
     },
     "execution_count": 17,
     "metadata": {},
     "output_type": "execute_result"
    }
   ],
   "source": [
    "\"(e10-1)*(4*e0+3)+2*(e0+1)*(e0+2)-1\" |> giac |>simplify"
   ]
  },
  {
   "cell_type": "markdown",
   "metadata": {},
   "source": [
    "$$e_{AA'A}=-2e_{A'AA}+2e_A^2+4e_Ae_{A'A}+2e_A+3e_{A'A}$$"
   ]
  },
  {
   "cell_type": "code",
   "execution_count": 18,
   "metadata": {
    "collapsed": false
   },
   "outputs": [
    {
     "data": {
      "text/plain": [
       "0"
      ]
     },
     "execution_count": 18,
     "metadata": {},
     "output_type": "execute_result"
    }
   ],
   "source": [
    "(D2[4][Array[[0],[1],[0]]] +2*D2[4][Array[[1],[0],[0]]] -2*D2[1][Array[[0]]]^2 \n",
    "        -4*D2[1][Array[[0]]]*D2[3][Array[[1],[0]]]\n",
    "        -2*D2[1][Array[[0]]]-3*D2[3][Array[[1],[0]]]) |> giac |>simplify"
   ]
  },
  {
   "cell_type": "markdown",
   "metadata": {},
   "source": [
    "# p=5"
   ]
  },
  {
   "cell_type": "code",
   "execution_count": 19,
   "metadata": {
    "collapsed": false
   },
   "outputs": [
    {
     "data": {
      "text/plain": [
       "Dict{Array{Array{Int64,1},1},Giac.giac} with 16 entries:\n",
       "  [[1],[2]]             => 6*(5*b1_1-2)*b1_2\n",
       "  [[0],[0],[1],[0]]     => b1_0^2*(5*b1_0-4)*b1_1\n",
       "  [[1],[0],[0],[0]]     => b1_0^3*(5*b1_1-4)\n",
       "  [[0],[0],[2]]         => 2*b1_0*(5*b1_0-3)*b1_2\n",
       "  [[2],[1]]             => 6*(5*b1_2-2)*b1_1\n",
       "  [[1],[1],[0]]         => 4*b1_1*(5*b1_1-3)*b1_0\n",
       "  [[4]]                 => 5*b1_4-1\n",
       "  [[0],[1],[0],[0]]     => b1_0^2*(5*b1_0-4)*b1_1\n",
       "  [[0],[0],[0],[1]]     => b1_0^2*(5*b1_0-4)*b1_1\n",
       "  [[0],[2],[0]]         => 2*b1_0*(5*b1_0-3)*b1_2\n",
       "  [[1],[0],[1]]         => 4*b1_1*(5*b1_1-3)*b1_0\n",
       "  [[0],[0],[0],[0],[0]] => b1_0^4*(b1_0-1)\n",
       "  [[0],[3]]             => 2*(5*b1_0-2)*b1_3\n",
       "  [[2],[0],[0]]         => 2*b1_0^2*(5*b1_2-3)\n",
       "  [[0],[1],[1]]         => 4*b1_1^2*(5*b1_0-3)\n",
       "  [[3],[0]]             => 2*(5*b1_3-2)*b1_0"
      ]
     },
     "execution_count": 19,
     "metadata": {},
     "output_type": "execute_result"
    }
   ],
   "source": [
    "D1[5]"
   ]
  },
  {
   "cell_type": "code",
   "execution_count": 20,
   "metadata": {
    "collapsed": false
   },
   "outputs": [
    {
     "data": {
      "text/plain": [
       "(0,0,0,0)"
      ]
     },
     "execution_count": 20,
     "metadata": {},
     "output_type": "execute_result"
    }
   ],
   "source": [
    "(\n",
    "simplify(D1[5][Array[[1],[2]]] + D1[5][Array[[2],[1]]]\n",
    "-10*(D1[2][Array[[1]]])*(D1[3][Array[[2]]])-4*D1[2][Array[[1]]]-6*D1[3][Array[[2]]]),\n",
    "simplify(D2[5][Array[[1],[2]]] + D2[5][Array[[2],[1]]]\n",
    "-10*(D2[2][Array[[1]]])*(D2[3][Array[[2]]])-4*D2[2][Array[[1]]]-6*D2[3][Array[[2]]]),\n",
    "simplify(D3[5][Array[[1],[2]]] + D3[5][Array[[2],[1]]]\n",
    "-10*(D3[2][Array[[1]]])*(D3[3][Array[[2]]])-4*D3[2][Array[[1]]]-6*D3[3][Array[[2]]]),\n",
    "simplify(D4[5][Array[[1],[2]]] + D4[5][Array[[2],[1]]]\n",
    "-10*(D4[2][Array[[1]]])*(D4[3][Array[[2]]])-4*D4[2][Array[[1]]]-6*D4[3][Array[[2]]]),\n",
    ")"
   ]
  },
  {
   "cell_type": "markdown",
   "metadata": {},
   "source": [
    "$$e_{A'A''} = -e_{A''A'}+10e_{A'}e_{A''}+4e_{A'}+6e_{A''}$$"
   ]
  },
  {
   "cell_type": "code",
   "execution_count": 21,
   "metadata": {
    "collapsed": false
   },
   "outputs": [
    {
     "data": {
      "text/plain": [
       "(0,0,0,0)"
      ]
     },
     "execution_count": 21,
     "metadata": {},
     "output_type": "execute_result"
    }
   ],
   "source": [
    "(\n",
    "simplify(D1[5][Array[[0],[3]]] + D1[5][Array[[3],[0]]]\n",
    "-5*(D1[1][Array[[0]]])*(D1[4][Array[[3]]])-D1[1][Array[[0]]]-4*D1[4][Array[[3]]]),\n",
    "simplify(D2[5][Array[[0],[3]]] + D2[5][Array[[3],[0]]]\n",
    "-5*(D2[1][Array[[0]]])*(D2[4][Array[[3]]])-D2[1][Array[[0]]]-4*D2[4][Array[[3]]]),\n",
    "simplify(D3[5][Array[[0],[3]]] + D3[5][Array[[3],[0]]]\n",
    "-5*(D3[1][Array[[0]]])*(D3[4][Array[[3]]])-D3[1][Array[[0]]]-4*D3[4][Array[[3]]]),\n",
    "simplify(D4[5][Array[[0],[3]]] + D4[5][Array[[3],[0]]]\n",
    "-5*(D4[1][Array[[0]]])*(D4[4][Array[[3]]])-D4[1][Array[[0]]]-4*D4[4][Array[[3]]]),\n",
    "\n",
    ")"
   ]
  },
  {
   "cell_type": "markdown",
   "metadata": {},
   "source": [
    "$$e_{AA'''} = -e_{A'''A}+5e_{A}e_{A'''}+e_{A}+4e_{A'''}$$"
   ]
  },
  {
   "cell_type": "markdown",
   "metadata": {},
   "source": [
    "Conjecture: If the order conditions are satisfied up to order $p-1$ then the leading term of the local error of order $p$ is\n",
    "an element of grade $p$ of the graded Lie-algebra with generators $\\{A,A'',A''',\\dots\\}$\n",
    "with grades\n",
    "$$w(A^{(n)})=n+1,\\quad n =0,1,2,\\dots.$$\n",
    "Number of commutators (basis elements) of grade $n$ in the corresponding Hall set:\n",
    "$$\\nu_n=\\frac{1}{n}\\sum_{d|n}2^{n/d}\\mu(d).$$\n",
    "The function `number_commutators_of_grade_equal_to` computes $\\nu_n$ according to this formula:"
   ]
  },
  {
   "cell_type": "code",
   "execution_count": 22,
   "metadata": {
    "collapsed": false
   },
   "outputs": [
    {
     "name": "stdout",
     "output_type": "stream",
     "text": [
      "n\tnu\tsum\n",
      "--------------------\n",
      "1\t1\t1\n",
      "2\t1\t2\n",
      "3\t2\t4\n",
      "4\t3\t7\n",
      "5\t6\t13\n",
      "6\t9\t22\n",
      "7\t18\t40\n",
      "8\t30\t70\n",
      "9\t56\t126\n",
      "10\t99\t225\n"
     ]
    }
   ],
   "source": [
    "s = 0\n",
    "println(\"n\\tnu\\tsum\")\n",
    "println(\"--------------------\")\n",
    "for n=1:10\n",
    "    t = number_commutators_of_grade_equal_to(n)\n",
    "    s+=t\n",
    "    println(n,\"\\t\",t,\"\\t\",s)\n",
    "end"
   ]
  },
  {
   "cell_type": "markdown",
   "metadata": {},
   "source": [
    "The sequence $\\{\\nu_n\\}$ is  [A059966](http://oeis.org/A059966) in the [The On-Line Encyclopedia of Integer Sequences](http://oeis.org)."
   ]
  },
  {
   "cell_type": "markdown",
   "metadata": {},
   "source": [
    "The Hall basis is generated following\n",
    "http://mathoverflow.net/questions/97703/list-of-hall-basis:"
   ]
  },
  {
   "cell_type": "code",
   "execution_count": 23,
   "metadata": {
    "collapsed": false
   },
   "outputs": [
    {
     "name": "stdout",
     "output_type": "stream",
     "text": [
      "degree 1:\n",
      "[1] #=1\n",
      "degree 2:\n",
      "[2] #=1\n",
      "degree 3:\n",
      "[3] [1,2] #=2\n",
      "degree 4:\n",
      "[4] [1,3] [1,2,1] #=3\n",
      "degree 5:\n",
      "[5] [1,4] [2,3] [1,3,1] [1,2,2] [1,2,1,1] #=6\n",
      "degree 6:\n",
      "[6] [1,5] [2,4] [1,4,1] [1,3,2] [1,3,2] [1,3,1,1] [1,2,2,1] [1,2,1,1,1] #=9\n",
      "degree 7:\n",
      "[7] [1,6] [2,5] [1,5,1] [3,4] [1,4,2] [1,4,2] [1,4,1,1] [1,3,3] [2,3,2] [1,3,2,1] [1,3,2,1] [1,3,2,1] [1,3,1,1,1] [1,2,2,2] [1,2,2,1,1] [1,2,2,1,1] [1,2,1,1,1,1] #=18\n",
      "degree 8:\n",
      "[8] [1,7] [2,6] [1,6,1] [3,5] [1,5,2] [1,5,2] [1,5,1,1] [1,4,3] [1,4,3] [2,4,2] [1,4,2,1] [1,4,2,1] [1,4,2,1] [1,4,1,1,1] [2,3,3] [1,3,3,1] [1,3,2,2] [1,3,2,2] [1,3,2,2] [1,3,2,1,1] [1,3,2,1,1] [1,3,2,1,1] [1,3,2,1,1] [1,3,1,1,1,1] [1,2,2,2,1] [1,2,2,2,1] [1,2,2,1,1,1] [1,2,2,1,1,1] [1,2,1,1,1,1,1] #=30\n",
      "degree 9:\n",
      "[9] [1,8] [2,7] [1,7,1] [3,6] [1,6,2] [1,6,2] [1,6,1,1] [4,5] [1,5,3] [1,5,3] [2,5,2] [1,5,2,1] [1,5,2,1] [1,5,2,1] [1,5,1,1,1] [1,4,4] [2,4,3] [2,4,3] [1,4,3,1] [1,4,3,1] [1,4,3,1] [1,4,2,2] [1,4,2,2] [1,4,2,2] [1,4,2,1,1] [1,4,2,1,1] [1,4,2,1,1] [1,4,2,1,1] [1,4,1,1,1,1] [1,3,3,2] [1,3,3,2] [1,3,3,2] [1,3,3,1,1] [1,3,3,1,1] [2,3,2,2] [1,3,2,2,1] [1,3,2,2,1] [1,3,2,2,1] [1,3,2,2,1] [1,3,2,2,1] [1,3,2,2,1] [1,3,2,1,1,1] [1,3,2,1,1,1] [1,3,2,1,1,1] [1,3,2,1,1,1] [1,3,2,1,1,1] [1,3,1,1,1,1,1] [1,2,2,2,2] [1,2,2,2,1,1] [1,2,2,2,1,1] [1,2,2,2,1,1] [1,2,2,1,1,1,1] [1,2,2,1,1,1,1] [1,2,2,1,1,1,1] [1,2,1,1,1,1,1,1] #=56\n",
      "degree 10:\n",
      "[10] [1,9] [2,8] [1,8,1] [3,7] [1,7,2] [1,7,2] [1,7,1,1] [4,6] [1,6,3] [1,6,3] [2,6,2] [1,6,2,1] [1,6,2,1] [1,6,2,1] [1,6,1,1,1] [1,5,4] [1,5,4] [2,5,3] [2,5,3] [1,5,3,1] [1,5,3,1] [1,5,3,1] [1,5,2,2] [1,5,2,2] [1,5,2,2] [1,5,2,1,1] [1,5,2,1,1] [1,5,2,1,1] [1,5,2,1,1] [1,5,1,1,1,1] [2,4,4] [1,4,4,1] [3,4,3] [1,4,3,2] [1,4,3,2] [1,4,3,2] [1,4,3,2] [1,4,3,2] [1,4,3,2] [1,4,3,1,1] [1,4,3,1,1] [1,4,3,1,1] [1,4,3,1,1] [2,4,2,2] [1,4,2,2,1] [1,4,2,2,1] [1,4,2,2,1] [1,4,2,2,1] [1,4,2,2,1] [1,4,2,2,1] [1,4,2,1,1,1] [1,4,2,1,1,1] [1,4,2,1,1,1] [1,4,2,1,1,1] [1,4,2,1,1,1] [1,4,1,1,1,1,1] [1,3,3,3] [2,3,3,2] [1,3,3,2,1] [1,3,3,2,1] [1,3,3,2,1] [1,3,3,2,1] [1,3,3,2,1] [1,3,3,2,1] [1,3,3,1,1,1] [1,3,3,1,1,1] [1,3,2,2,2] [1,3,2,2,2] [1,3,2,2,2] [1,3,2,2,2] [1,3,2,2,1,1] [1,3,2,2,1,1] [1,3,2,2,1,1] [1,3,2,2,1,1] [1,3,2,2,1,1] [1,3,2,2,1,1] [1,3,2,2,1,1] [1,3,2,2,1,1] [1,3,2,2,1,1] [1,3,2,2,1,1] [1,3,2,1,1,1,1] [1,3,2,1,1,1,1] [1,3,2,1,1,1,1] [1,3,2,1,1,1,1] [1,3,2,1,1,1,1] [1,3,2,1,1,1,1] [1,3,1,1,1,1,1,1] [1,2,2,2,2,1] [1,2,2,2,2,1] [1,2,2,2,1,1,1] [1,2,2,2,1,1,1] [1,2,2,2,1,1,1] [1,2,2,2,1,1,1] [1,2,2,2,1,1,1] [1,2,2,1,1,1,1,1] [1,2,2,1,1,1,1,1] [1,2,2,1,1,1,1,1] [1,2,1,1,1,1,1,1,1] #=99\n"
     ]
    }
   ],
   "source": [
    "n=10\n",
    "for i=1:n\n",
    "    L = integer_vector_weighted(i, collect(1:n))\n",
    "    println(\"degree \", i,\":\")\n",
    "    c = 0\n",
    "    for l in L\n",
    "        for w in lyndon_words(l)\n",
    "            print(w, \" \")\n",
    "            c += 1\n",
    "        end\n",
    "    end\n",
    "    println(\"#=\",c)\n",
    "end"
   ]
  },
  {
   "cell_type": "code",
   "execution_count": null,
   "metadata": {
    "collapsed": true
   },
   "outputs": [],
   "source": []
  }
 ],
 "metadata": {
  "kernelspec": {
   "display_name": "Julia 0.4.5",
   "language": "julia",
   "name": "julia-0.4"
  },
  "language_info": {
   "file_extension": ".jl",
   "mimetype": "application/julia",
   "name": "julia",
   "version": "0.4.5"
  }
 },
 "nbformat": 4,
 "nbformat_minor": 0
}
