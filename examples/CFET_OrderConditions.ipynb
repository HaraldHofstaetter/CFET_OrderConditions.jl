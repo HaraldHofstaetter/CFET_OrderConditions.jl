{
 "cells": [
  {
   "cell_type": "markdown",
   "metadata": {},
   "source": [
    "# Order conditions for commutator-free exponential time propagators (CFET)"
   ]
  },
  {
   "cell_type": "markdown",
   "metadata": {},
   "source": [
    "This Julia notebook requires the package `Giac`, see https://github.com/HaraldHofstaetter/Giac.jl."
   ]
  },
  {
   "cell_type": "code",
   "execution_count": 1,
   "metadata": {
    "collapsed": false
   },
   "outputs": [
    {
     "name": "stderr",
     "output_type": "stream",
     "text": [
      "WARNING: Method definition factorial(#T<:Integer, #T<:Integer) in module Base at combinatorics.jl:56 overwritten in module Combinatorics at /home/hofi/.julia/v0.4/Combinatorics/src/factorials.jl:18.\n",
      "WARNING: Method definition factorial(Integer, Integer) in module Base at combinatorics.jl:66 overwritten in module Combinatorics at /home/hofi/.julia/v0.4/Combinatorics/src/factorials.jl:28.\n",
      "WARNING: Method definition combinations(Any, Integer) in module Base at combinatorics.jl:182 overwritten in module Combinatorics at /home/hofi/.julia/v0.4/Combinatorics/src/combinations.jl:42.\n",
      "WARNING: Method definition permutations(Any) in module Base at combinatorics.jl:219 overwritten in module Combinatorics at /home/hofi/.julia/v0.4/Combinatorics/src/permutations.jl:24.\n",
      "WARNING: Method definition nthperm!(AbstractArray{T<:Any, 1}, Integer) in module Base at combinatorics.jl:70 overwritten in module Combinatorics at /home/hofi/.julia/v0.4/Combinatorics/src/permutations.jl:136.\n",
      "WARNING: Method definition nthperm(AbstractArray{T<:Any, 1}, Integer) in module Base at combinatorics.jl:89 overwritten in module Combinatorics at /home/hofi/.julia/v0.4/Combinatorics/src/permutations.jl:157.\n",
      "WARNING: Method definition nthperm(AbstractArray{#T<:Integer, 1}) in module Base at combinatorics.jl:92 overwritten in module Combinatorics at /home/hofi/.julia/v0.4/Combinatorics/src/permutations.jl:161.\n",
      "WARNING: Method definition levicivita(AbstractArray{#T<:Integer, 1}) in module Base at combinatorics.jl:611 overwritten in module Combinatorics at /home/hofi/.julia/v0.4/Combinatorics/src/permutations.jl:188.\n",
      "WARNING: Method definition parity(AbstractArray{#T<:Integer, 1}) in module Base at combinatorics.jl:642 overwritten in module Combinatorics at /home/hofi/.julia/v0.4/Combinatorics/src/permutations.jl:221.\n",
      "WARNING: Method definition partitions(Integer) in module Base at combinatorics.jl:252 overwritten in module Combinatorics at /home/hofi/.julia/v0.4/Combinatorics/src/partitions.jl:26.\n",
      "WARNING: Method definition partitions(Integer, Integer) in module Base at combinatorics.jl:318 overwritten in module Combinatorics at /home/hofi/.julia/v0.4/Combinatorics/src/partitions.jl:93.\n",
      "WARNING: Method definition partitions(AbstractArray{T<:Any, 1}) in module Base at combinatorics.jl:380 overwritten in module Combinatorics at /home/hofi/.julia/v0.4/Combinatorics/src/partitions.jl:158.\n",
      "WARNING: Method definition partitions(AbstractArray{T<:Any, 1}, Int64) in module Base at combinatorics.jl:447 overwritten in module Combinatorics at /home/hofi/.julia/v0.4/Combinatorics/src/partitions.jl:228.\n",
      "WARNING: Method definition prevprod(Array{Int64, 1}, Any) in module Base at combinatorics.jl:565 overwritten in module Combinatorics at /home/hofi/.julia/v0.4/Combinatorics/src/partitions.jl:354.\n"
     ]
    }
   ],
   "source": [
    "using CFET_OrderConditions\n",
    "using Giac"
   ]
  },
  {
   "cell_type": "markdown",
   "metadata": {},
   "source": [
    "It holds\n",
    "$$\\left(\\frac{d}{dt}\\right)^k\\mathrm{e}^{tB(t)} = \\mathcal{C}_k(t)\\mathrm{e}^{tB(t)},$$\n",
    "where $C_k$ satisfies the recursion\n",
    "$$\\mathcal{C}_0(t)=\\mathrm{Id},\\quad\\mathcal{C}_1(t) = C(t),\\qquad \\mathcal{C}_k(t)=\\mathcal{C}_{k-1}(t)\\cdot C(t)+\\frac{d}{dt}\\mathcal{C}_{k-1}(t)$$\n",
    "with\n",
    "$$C(t) = B(t)+\\sum_{k=0}^{\\infty}\\frac{t^{k+1}}{(k+1)!}\\mathrm{ad}_{B(t)}(B'(t)).$$\n",
    "Here $\\mathrm{ad}_{B(t)}^k(B'(t))$ denotes the iterated commutator\n",
    "$$\\mathrm{ad}_{B(t)}^k(B'(t))=[\\underbrace{B(t),[B(t),\\dots,[B(t)}_{\\mbox{$k$ times}},B'(t)]\\dots]].$$\n",
    "\n",
    "The following function implements this recursion:"
   ]
  },
  {
   "cell_type": "code",
   "execution_count": 2,
   "metadata": {
    "collapsed": false
   },
   "outputs": [
    {
     "data": {
      "text/plain": [
       "5-element Array{Dict{Array{Int64,1},Int64},1}:\n",
       " Dict(Int64[]=>1)                                                                     \n",
       " Dict([0]=>1)                                                                         \n",
       " Dict([1]=>1,[0,0]=>1)                                                                \n",
       " Dict([0,1]=>1,[2]=>1,[1,0]=>2,[0,0,0]=>1)                                            \n",
       " Dict([3]=>1,[2,0]=>3,[0,0,1]=>1,[1,1]=>3,[0,1,0]=>2,[1,0,0]=>3,[0,0,0,0]=>1,[0,2]=>1)"
      ]
     },
     "execution_count": 2,
     "metadata": {},
     "output_type": "execute_result"
    }
   ],
   "source": [
    "gen_exp_tBt_derivatives_coeffs(4)"
   ]
  },
  {
   "cell_type": "markdown",
   "metadata": {},
   "source": [
    "Here, the keys Int64[], [0], [1], [0,0], [0,1], ... correspond respectively to  $\\mathrm{Id}, C(t), C'(t), C(t)^2, C(t)\\cdot C'(t),\\dots$,\n",
    "and the values are the corresponding coefficients,  \n",
    "such that\n",
    "(arguments of $\\mathcal{C}_k(t), C(t), C'(t), \\dots$ ommited)\n",
    "$$\\mathcal{C}_0 = \\mathrm{Id},$$\n",
    "$$\\mathcal{C}_1 = C,$$\n",
    "$$\\mathcal{C}_2 = C^2+ C',$$\n",
    "$$\\mathcal{C}_3 = C^3 +2C'C+ CC'+C'',$$\n",
    "$$\\mathcal{C}_4 = C^4 +3C'C^2+C^2C'+2CC'C+3C''C+CC''+C'''.$$"
   ]
  },
  {
   "cell_type": "markdown",
   "metadata": {},
   "source": [
    "It holds $C(0)=B(0)$, and for the derivatives of $C(t)$ evaluated at $t=0$ it holds\n",
    "$$C^{(n)}(0) = B^{(n)}(0) +\\sum_{k=0}^{n-1}{n \\choose k+1}\\left[\\left(\\frac{d}{dt}\\right)^{n-k-1}\\mathrm{ad}_{B(t)}^k(B'(t))\\right]_{t=0},\\quad n=1,2,\\dots.$$\n",
    "The following function computes these derivatives:"
   ]
  },
  {
   "cell_type": "code",
   "execution_count": 3,
   "metadata": {
    "collapsed": false
   },
   "outputs": [
    {
     "data": {
      "text/plain": [
       "5-element Array{Dict{Array{Int64,1},Int64},1}:\n",
       " Dict([0]=>1)                                                     \n",
       " Dict([1]=>2)                                                     \n",
       " Dict([0,1]=>1,[2]=>3)                                            \n",
       " Dict([3]=>4,[0,0,1]=>1,[0,2]=>3)                                 \n",
       " Dict([1,0,1]=>4,[0,3]=>6,[4]=>5,[1,2]=>6,[0,0,2]=>4,[0,0,0,1]=>1)"
      ]
     },
     "execution_count": 3,
     "metadata": {},
     "output_type": "execute_result"
    }
   ],
   "source": [
    "gen_C_derivatives_at_0(4)"
   ]
  },
  {
   "cell_type": "markdown",
   "metadata": {},
   "source": [
    "Here, the keys [0], [1], [0,1], [0,0,1], [0,2]... correspond respectively to iterated commutators \n",
    "$B(0), B'(0), [B(0),B'(0)], [B(0),[B(0),B'(0)]], [B(0),B''(0)],\\dots$, and the values are the corresponding coefficients, such that (argument 0 ommited):\n",
    "$$C=B,$$\n",
    "$$C'=2B',$$\n",
    "$$C''=3B''+[B,B'],$$\n",
    "$$C'''=4B'''+3[B,B'']+[B,[B,B']],$$\n",
    "$$C^{(4)}=5B^{(4)}+6[B',B'']+6[B,B''']+4[B',[B,B']]+4[B,[B,B'']]+[B,[B,[B,B']]].$$"
   ]
  },
  {
   "cell_type": "markdown",
   "metadata": {},
   "source": [
    "We use the following parameters for our examples:"
   ]
  },
  {
   "cell_type": "code",
   "execution_count": 4,
   "metadata": {
    "collapsed": false
   },
   "outputs": [
    {
     "data": {
      "text/plain": [
       "(2,2,4)"
      ]
     },
     "execution_count": 4,
     "metadata": {},
     "output_type": "execute_result"
    }
   ],
   "source": [
    "J, K, p = 2, 2, 4"
   ]
  },
  {
   "cell_type": "markdown",
   "metadata": {},
   "source": [
    "Substitute \n",
    "$$B^{(q)}=b_qA^{(q)},\\quad b_q=\\sum_{l}a_lc_l^q$$\n",
    "in the above equations for $C, C',C''',...$: "
   ]
  },
  {
   "cell_type": "code",
   "execution_count": 5,
   "metadata": {
    "collapsed": false
   },
   "outputs": [
    {
     "data": {
      "text/plain": [
       "5-element Array{Giac.giac,1}:\n",
       " b0\n",
       " b1\n",
       " b2\n",
       " b3\n",
       " b4"
      ]
     },
     "execution_count": 5,
     "metadata": {},
     "output_type": "execute_result"
    }
   ],
   "source": [
    "b = giac[giac(string(\"b\",k)) for k=0:p] "
   ]
  },
  {
   "cell_type": "code",
   "execution_count": 6,
   "metadata": {
    "collapsed": false
   },
   "outputs": [
    {
     "data": {
      "text/plain": [
       "5-element Array{Dict{Array{Int64,1},Giac.giac},1}:\n",
       " Dict{Array{Int64,1},Giac.giac}([0]=>b0)                                                                                         \n",
       " Dict{Array{Int64,1},Giac.giac}([1]=>2*b1)                                                                                       \n",
       " Dict{Array{Int64,1},Giac.giac}([0,1]=>b1*b0,[2]=>3*b2)                                                                          \n",
       " Dict{Array{Int64,1},Giac.giac}([3]=>4*b3,[0,0,1]=>b0^2*b1,[0,2]=>3*b2*b0)                                                       \n",
       " Dict{Array{Int64,1},Giac.giac}([1,0,1]=>4*b1^2*b0,[0,3]=>6*b3*b0,[4]=>5*b4,[1,2]=>6*b2*b1,[0,0,2]=>4*b0^2*b2,[0,0,0,1]=>b0^3*b1)"
      ]
     },
     "execution_count": 6,
     "metadata": {},
     "output_type": "execute_result"
    }
   ],
   "source": [
    "C = gen_C_derivatives_at_0_in_terms_of_A(p, b)\n",
    "C = [Dict{Array{Int64,1},Giac.giac}([key=>factor(val) for (key,val) in c]) for c in C]"
   ]
  },
  {
   "cell_type": "markdown",
   "metadata": {},
   "source": [
    "Now the keys [0], [1], [0,1], [0,0,1], [0,2]... correspond respectively to iterated commutators \n",
    "$A(0), A'(0), [A(0),A'(0)], [A(0),[A(0),A'(0)]], [A(0),A''(0)],\\dots$, and the values are the corresponding coefficients (which are Giac expressions), such that (argument 0 ommited):\n",
    "$$C = b_0A,$$\n",
    "$$C' = 2b_1 A',$$\n",
    "$$C'' = 3b_2 A''+b_0b_1[A,A'],$$\n",
    "$$C''' = 4b_3A''' +3b_0b_2[A,A'']+b_0^2b_1[A,[A,A']],$$\n",
    "$$C^{(4)}=5b_4A^{(4)}+6b_1b_2[A',A'']+6b_0b_3[A,A''']+4b_1^2b_0[A',[A,A']]+4b_0^2b_2[A,[A,A'']]+b_0^3b_1[A,[A,[A,A']]].$$"
   ]
  },
  {
   "cell_type": "markdown",
   "metadata": {},
   "source": [
    "Now we can compute\n",
    "$$\\left[\\left(\\frac{d}{dt}\\right)^k\\mathrm{e}^{tB(t)}\\right]_{t=0} = \\big[\\mathcal{C}_{k}(t)\\mathrm{e}^{tB(t)}\\big]_{t=0}=\\mathcal{C}_{k}(0),\\quad k=1,2,\\dots$$\n",
    "with the $\\mathcal{C}_k$ form above. For $k=0$ it holds $\\left[\\mathrm{e}^{tB(t)}\\right]_{t=0}=\\mathrm{Id}$ of course."
   ]
  },
  {
   "cell_type": "code",
   "execution_count": 7,
   "metadata": {
    "collapsed": false,
    "scrolled": true
   },
   "outputs": [
    {
     "data": {
      "text/plain": [
       "5-element Array{Dict{Array{Array{Int64,1},1},Giac.giac},1}:\n",
       " Dict{Array{Array{Int64,1},1},Giac.giac}([Int64[]]=>1)                                                                                                                                                                                                                                           \n",
       " Dict{Array{Array{Int64,1},1},Giac.giac}([[0]]=>b0)                                                                                                                                                                                                                                              \n",
       " Dict{Array{Array{Int64,1},1},Giac.giac}([[1]]=>2*b1,[[0],[0]]=>b0^2)                                                                                                                                                                                                                            \n",
       " Dict{Array{Array{Int64,1},1},Giac.giac}([[0,1]]=>b1*b0,[[2]]=>3*b2,[[1],[0]]=>4*b0*b1,[[0],[0],[0]]=>b0^3,[[0],[1]]=>2*b1*b0)                                                                                                                                                                   \n",
       " Dict{Array{Array{Int64,1},1},Giac.giac}([[0],[1],[0]]=>4*b0^2*b1,[[0],[2]]=>3*b2*b0,[[2],[0]]=>9*b0*b2,[[1],[0],[0]]=>6*b0^2*b1,[[1],[1]]=>12*b1^2,[[0],[0],[0],[0]]=>b0^4,[[0],[0,1]]=>b0^2*b1,[[0,1],[0]]=>3*b0^2*b1,[[3]]=>4*b3,[[0,0,1]]=>b0^2*b1,[[0,2]]=>3*b2*b0,[[0],[0],[1]]=>2*b0^2*b1)"
      ]
     },
     "execution_count": 7,
     "metadata": {},
     "output_type": "execute_result"
    }
   ],
   "source": [
    "C = gen_exp_tBt_derivatives_at_0_in_terms_of_A(p, b)\n",
    "C = [LCCC{Giac.giac}([key=>factor(val) for (key,val) in c]) for c in C]"
   ]
  },
  {
   "cell_type": "markdown",
   "metadata": {},
   "source": [
    "The output is to be interpreted as follows (argument 0 ommited):\n",
    "$$\\mathcal{C}_{0} = \\mathrm{Id},$$\n",
    "$$\\mathcal{C}_{1} = b_0A,$$\n",
    "$$\\mathcal{C}_{2} = 2b_1A'+ b_0^2A^2,$$\n",
    "$$\\mathcal{C}_{3} = 3b_2A''+b_0b_1[A,A']+4b_0b_1A'A+2b_0b_1AA'+b_0^3A^3$$\n",
    "$$\\mathcal{C}_{4} = 4b_3A'''+3b_0b_2AA''+9b_0b_2A''A+3b_0b_2[A,A'']+4b_0^2b_1AA'A+6b_0^2b_1A'A^2+2b_0^2b_1A^2A'+12b_1^2(A')^2\n",
    "+b_0^2b_1A[A,A']+3b_0^2b_1[A,A']A+b_0^2b_1[A,[A,A']]+b_0^4A^4.$$\n",
    "Here it seems reasonable to expand all commutators, because the expanded terms are present in the expressions anyway."
   ]
  },
  {
   "cell_type": "code",
   "execution_count": 8,
   "metadata": {
    "collapsed": false
   },
   "outputs": [
    {
     "data": {
      "text/plain": [
       "5-element Array{Dict{Array{Array{Int64,1},1},Giac.giac},1}:\n",
       " Dict{Array{Array{Int64,1},1},Giac.giac}([Int64[]]=>1)                                                                                                                                                           \n",
       " Dict{Array{Array{Int64,1},1},Giac.giac}([[0]]=>b0)                                                                                                                                                              \n",
       " Dict{Array{Array{Int64,1},1},Giac.giac}([[1]]=>2*b1,[[0],[0]]=>b0^2)                                                                                                                                            \n",
       " Dict{Array{Array{Int64,1},1},Giac.giac}([[1],[0]]=>3*b1*b0,[[2]]=>3*b2,[[0],[0],[0]]=>b0^3,[[0],[1]]=>3*b0*b1)                                                                                                  \n",
       " Dict{Array{Array{Int64,1},1},Giac.giac}([[0],[0],[0],[0]]=>b0^4,[[1],[0],[0]]=>4*b0^2*b1,[[0],[0],[1]]=>4*b0^2*b1,[[3]]=>4*b3,[[0],[1],[0]]=>4*b0^2*b1,[[1],[1]]=>12*b1^2,[[0],[2]]=>6*b0*b2,[[2],[0]]=>6*b0*b2)"
      ]
     },
     "execution_count": 8,
     "metadata": {},
     "output_type": "execute_result"
    }
   ],
   "source": [
    "C = [expand_commutators(c) for c in C]\n",
    "C = [LCCC{Giac.giac}([key=>factor(val) for (key,val) in c]) for c in C]"
   ]
  },
  {
   "cell_type": "markdown",
   "metadata": {},
   "source": [
    "The output is to be interpreted as follows (argument 0 ommited):\n",
    "$$\\mathcal{C}_{0} = \\mathrm{Id},$$\n",
    "$$\\mathcal{C}_{1} = b_0A,$$\n",
    "$$\\mathcal{C}_{2} = 2b_1A'+ b_0^2A^2,$$\n",
    "$$\\mathcal{C}_{3} = 3b_2A''+3b_0b_1A'A+3b_0b_1AA'+b_0^3A^3,$$\n",
    "$$\\mathcal{C}_{4} = 4b_3A'''+6b_0b_2A''A+6b_0b_2AA''+12b_1^2(A')^2+4b_0^2b_1A'A^2+4b_0^2b_1AA'A+4b_0^2b_1A^2A'+b_0^4A^4$$"
   ]
  },
  {
   "cell_type": "markdown",
   "metadata": {},
   "source": [
    "Numerical method:\n",
    "$$S(t) = \\prod_{j=J,\\dots,1}\\mathrm{e}^{tB_j(t)}.$$\n",
    "Defect:\n",
    "$$D(t) = \\frac{d}{dt}S(t)-A(t)S(t).$$\n",
    "Derivatives of the defect are calculated using the Leibniz formula for higher derivatives:\n",
    "$$D^{(q)}(t) = \\sum_{\\mathbf{k}=(k_1,\\dots,k_J)\\atop |\\mathbf{k}|=q+1}{q+1 \\choose \\mathbf{k}}\\prod_{j=J,\\dots,1}\\left(\\frac{d}{dt}\\right)^{k_j}\\mathrm{e}^{tB_j(t)}-\n",
    "\\sum_{\\mathbf{k}=(k_1,\\dots,k_{J+1})\\atop |\\mathbf{k}|=q}{q \\choose \\mathbf{k}}A^{(k_{J+1})}(t)\\prod_{j=J,\\dots,1}\\left(\\frac{d}{dt}\\right)^{k_j}\\mathrm{e}^{tB_j(t)}.\n",
    "$$\n",
    "\n",
    "Substituting $\\left(\\frac{d}{dt}\\right)^k\\mathrm{e}^{tB_j(t)} = \\mathcal{C}_{j,k}(t)\\mathrm{e}^{tB_j(t)}$ followed\n",
    "by an evaluation at $t=0$ yields\n",
    "$$D^{(q)}(0) = \\sum_{\\mathbf{k}=(k_1,\\dots,k_J)\\atop |\\mathbf{k}|=q+1}{q+1 \\choose \\mathbf{k}}\\prod_{j=J,\\dots,1}\\mathcal{C}_{j,k_j}(0)-\\sum_{\\mathbf{k}=(k_1,\\dots,k_{J+1})\\atop |\\mathbf{k}|=q}{q \\choose \\mathbf{k}}A^{(k_{J+1})}(0)\\prod_{j=J,\\dots,1}\\mathcal{C}_{j,k_j}(0).$$"
   ]
  },
  {
   "cell_type": "markdown",
   "metadata": {},
   "source": [
    "The following function computes $D^{(q)}(0)$ for $q=0,\\dots,p-1$. To obtain order $p$ for the method $S(t)$, all\n",
    "coefficients of $D^{(q)}(0), q=0,\\dots,p-1$ are required to vanish => order conditions."
   ]
  },
  {
   "cell_type": "code",
   "execution_count": 9,
   "metadata": {
    "collapsed": false
   },
   "outputs": [
    {
     "data": {
      "text/plain": [
       "4-element Array{Dict{Array{Int64,1},Giac.giac},1}:\n",
       " Dict{Array{Int64,1},Giac.giac}([0]=>b2_0+b1_0-1)                                                                                                                                                                                                                                                                                                                                                                                                                                                                                                                               \n",
       " Dict{Array{Int64,1},Giac.giac}([1]=>2*b2_1+2*b1_1-1,[0,0]=>(b2_0+b1_0)*(b2_0+b1_0-1))                                                                                                                                                                                                                                                                                                                                                                                                                                                                                          \n",
       " Dict{Array{Int64,1},Giac.giac}([0,1]=>6*b2_0*b1_1+3*b2_0*b2_1+3*b1_1*b1_0-2*b1_1-2*b2_1,[2]=>3*b2_2+3*b1_2-1,[1,0]=>6*b2_1*b1_0+3*b2_1*b2_0+3*b1_0*b1_1-2*b1_0-2*b2_0,[0,0,0]=>(b2_0+b1_0)^2*(b2_0+b1_0-1))                                                                                                                                                                                                                                                                                                                                                                    \n",
       " Dict{Array{Int64,1},Giac.giac}([3]=>4*b2_3+4*b1_3-1,[2,0]=>3*(4*b2_2*b1_0+2*b2_2*b2_0+2*b1_0*b1_2-b1_0-b2_0),[0,0,1]=>12*b1_1*b2_0^2+12*b1_1*b2_0*b1_0-6*b1_1*b2_0+4*b1_1*b1_0^2-3*b1_1*b1_0+4*b2_0^2*b2_1-3*b2_0*b2_1,[1,1]=>6*(b2_1+b1_1)*(2*b2_1+2*b1_1-1),[1,0,0]=>12*b2_1*b1_0^2+12*b2_1*b1_0*b2_0+4*b2_1*b2_0^2+4*b1_0^2*b1_1-3*b1_0^2-6*b1_0*b2_0-3*b2_0^2,[0,1,0]=>4*b1_1*b1_0^2+12*b1_1*b1_0*b2_0-3*b1_1*b1_0+12*b1_0*b2_0*b2_1-6*b1_0*b2_1+4*b2_0^2*b2_1-3*b2_0*b2_1,[0,0,0,0]=>(b2_0+b1_0)^3*(b2_0+b1_0-1),[0,2]=>3*(4*b2_0*b1_2+2*b2_0*b2_2+2*b1_2*b1_0-b1_2-b2_2))"
      ]
     },
     "execution_count": 9,
     "metadata": {},
     "output_type": "execute_result"
    }
   ],
   "source": [
    "D = gen_CFET_order_conditions(p,J)"
   ]
  },
  {
   "cell_type": "markdown",
   "metadata": {},
   "source": [
    "Conjecture: If the order conditions are satisfied up to order $p-1$ then the leading term of the local error of order $p$ is\n",
    "an element of grade $p$ of the graded Lie-algebra with generators $\\{A,A'',A''',\\dots\\}$\n",
    "with grades\n",
    "$$w(A^{(n)})=n+1,\\quad n =0,1,2,\\dots.$$\n",
    "From this conjecture it would follow that many of the computed order conditions are redundant. We only keep \n",
    "those, whose indices correspond to Hall basis elements of grade <= the required convergence order p. \n",
    "For $p\\leq 10$ these are the following basis elements. (`gen_hall_basis_elements_of_grade`  is based on http://mathoverflow.net/questions/97703/list-of-hall-basis.)"
   ]
  },
  {
   "cell_type": "code",
   "execution_count": 10,
   "metadata": {
    "collapsed": false
   },
   "outputs": [
    {
     "name": "stdout",
     "output_type": "stream",
     "text": [
      "grade 1:\n",
      "[[0]]\n",
      "grade 2:\n",
      "[[1]]\n",
      "grade 3:\n",
      "[[2],[0,1]]\n",
      "grade 4:\n",
      "[[3],[0,2],[0,0,1]]\n",
      "grade 5:\n",
      "[[4],[0,3],[1,2],[0,0,2],[0,1,1],[0,0,0,1]]\n",
      "grade 6:\n",
      "[[5],[0,4],[1,3],[0,0,3],[0,1,2],[0,2,1],[0,0,0,2],[0,0,1,1],[0,0,0,0,1]]\n",
      "grade 7:\n",
      "[[6],[0,5],[1,4],[0,0,4],[2,3],[0,1,3],[0,3,1],[0,0,0,3],[0,2,2],[1,1,2],[0,0,1,2],[0,0,2,1],[0,1,0,2],[0,0,0,0,2],[0,1,1,1],[0,0,0,1,1],[0,0,1,0,1],[0,0,0,0,0,1]]\n",
      "grade 8:\n",
      "[[7],[0,6],[1,5],[0,0,5],[2,4],[0,1,4],[0,4,1],[0,0,0,4],[0,2,3],[0,3,2],[1,1,3],[0,0,1,3],[0,0,3,1],[0,1,0,3],[0,0,0,0,3],[1,2,2],[0,0,2,2],[0,1,1,2],[0,1,2,1],[0,2,1,1],[0,0,0,1,2],[0,0,0,2,1],[0,0,1,0,2],[0,0,2,0,1],[0,0,0,0,0,2],[0,0,1,1,1],[0,1,0,1,1],[0,0,0,0,1,1],[0,0,0,1,0,1],[0,0,0,0,0,0,1]]\n",
      "grade 9:\n",
      "[[8],[0,7],[1,6],[0,0,6],[2,5],[0,1,5],[0,5,1],[0,0,0,5],[3,4],[0,2,4],[0,4,2],[1,1,4],[0,0,1,4],[0,0,4,1],[0,1,0,4],[0,0,0,0,4],[0,3,3],[1,2,3],[1,3,2],[0,0,2,3],[0,0,3,2],[0,2,0,3],[0,1,1,3],[0,1,3,1],[0,3,1,1],[0,0,0,1,3],[0,0,0,3,1],[0,0,1,0,3],[0,0,3,0,1],[0,0,0,0,0,3],[0,1,2,2],[0,2,1,2],[0,2,2,1],[0,0,0,2,2],[0,0,2,0,2],[1,1,1,2],[0,0,1,1,2],[0,0,1,2,1],[0,0,2,1,1],[0,1,0,1,2],[0,1,0,2,1],[0,1,1,0,2],[0,0,0,0,1,2],[0,0,0,0,2,1],[0,0,0,1,0,2],[0,0,0,2,0,1],[0,0,1,0,0,2],[0,0,0,0,0,0,2],[0,1,1,1,1],[0,0,0,1,1,1],[0,0,1,0,1,1],[0,0,1,1,0,1],[0,0,0,0,0,1,1],[0,0,0,0,1,0,1],[0,0,0,1,0,0,1],[0,0,0,0,0,0,0,1]]\n",
      "grade 10:\n",
      "[[9],[0,8],[1,7],[0,0,7],[2,6],[0,1,6],[0,6,1],[0,0,0,6],[3,5],[0,2,5],[0,5,2],[1,1,5],[0,0,1,5],[0,0,5,1],[0,1,0,5],[0,0,0,0,5],[0,3,4],[0,4,3],[1,2,4],[1,4,2],[0,0,2,4],[0,0,4,2],[0,2,0,4],[0,1,1,4],[0,1,4,1],[0,4,1,1],[0,0,0,1,4],[0,0,0,4,1],[0,0,1,0,4],[0,0,4,0,1],[0,0,0,0,0,4],[1,3,3],[0,0,3,3],[2,2,3],[0,1,2,3],[0,1,3,2],[0,2,1,3],[0,2,3,1],[0,3,1,2],[0,3,2,1],[0,0,0,2,3],[0,0,0,3,2],[0,0,2,0,3],[0,0,3,0,2],[1,1,1,3],[0,0,1,1,3],[0,0,1,3,1],[0,0,3,1,1],[0,1,0,1,3],[0,1,0,3,1],[0,1,1,0,3],[0,0,0,0,1,3],[0,0,0,0,3,1],[0,0,0,1,0,3],[0,0,0,3,0,1],[0,0,1,0,0,3],[0,0,0,0,0,0,3],[0,2,2,2],[1,1,2,2],[0,0,1,2,2],[0,0,2,1,2],[0,0,2,2,1],[0,1,0,2,2],[0,1,2,0,2],[0,2,0,2,1],[0,0,0,0,2,2],[0,0,0,2,0,2],[0,1,1,1,2],[0,1,1,2,1],[0,1,2,1,1],[0,2,1,1,1],[0,0,0,1,1,2],[0,0,0,1,2,1],[0,0,0,2,1,1],[0,0,1,0,1,2],[0,0,1,0,2,1],[0,0,1,1,0,2],[0,0,1,2,0,1],[0,0,2,0,1,1],[0,0,2,1,0,1],[0,1,0,1,0,2],[0,0,0,0,0,1,2],[0,0,0,0,0,2,1],[0,0,0,0,1,0,2],[0,0,0,0,2,0,1],[0,0,0,1,0,0,2],[0,0,0,2,0,0,1],[0,0,0,0,0,0,0,2],[0,0,1,1,1,1],[0,1,0,1,1,1],[0,0,0,0,1,1,1],[0,0,0,1,0,1,1],[0,0,0,1,1,0,1],[0,0,1,0,0,1,1],[0,0,1,0,1,0,1],[0,0,0,0,0,0,1,1],[0,0,0,0,0,1,0,1],[0,0,0,0,1,0,0,1],[0,0,0,0,0,0,0,0,1]]\n"
     ]
    }
   ],
   "source": [
    "for q=1:10\n",
    "    println(\"grade \", q, \":\\n\",gen_hall_basis_elements_of_grade(q))\n",
    "end"
   ]
  },
  {
   "cell_type": "markdown",
   "metadata": {},
   "source": [
    "The number of basis elements of grade $n$ is given by the formula\n",
    "$$\\nu_n=\\frac{1}{n}\\sum_{d|n}2^{n/d}\\mu(d).$$\n",
    "The function `number_commutators_of_grade_equal_to` computes $\\nu_n$ according to this formula:"
   ]
  },
  {
   "cell_type": "code",
   "execution_count": 11,
   "metadata": {
    "collapsed": false
   },
   "outputs": [
    {
     "name": "stdout",
     "output_type": "stream",
     "text": [
      "n\tnu\tsum\n",
      "--------------------\n",
      "1\t1\t1\n",
      "2\t1\t2\n",
      "3\t2\t4\n",
      "4\t3\t7\n",
      "5\t6\t13\n",
      "6\t9\t22\n",
      "7\t18\t40\n",
      "8\t30\t70\n",
      "9\t56\t126\n",
      "10\t99\t225\n"
     ]
    }
   ],
   "source": [
    "s = 0\n",
    "println(\"n\\tnu\\tsum\")\n",
    "println(\"--------------------\")\n",
    "for n=1:10\n",
    "    t = number_commutators_of_grade_equal_to(n)\n",
    "    s+=t\n",
    "    println(n,\"\\t\",t,\"\\t\",s)\n",
    "end"
   ]
  },
  {
   "cell_type": "markdown",
   "metadata": {},
   "source": [
    "The sequence $\\{\\nu_n\\}$ is  [A059966](http://oeis.org/A059966) in the [The On-Line Encyclopedia of Integer Sequences](http://oeis.org). Note that for n>=2 the number of order conditions is exactly the same as for splitting methods.\n",
    "\n",
    "The following function computes only those order conditions, which correspond to Hall basis elements:"
   ]
  },
  {
   "cell_type": "code",
   "execution_count": 12,
   "metadata": {
    "collapsed": false
   },
   "outputs": [
    {
     "data": {
      "text/plain": [
       "4-element Array{Dict{Array{Int64,1},Giac.giac},1}:\n",
       " Dict{Array{Int64,1},Giac.giac}([0]=>b2_0+b1_0-1)                                                                                                                                                                       \n",
       " Dict{Array{Int64,1},Giac.giac}([1]=>2*b2_1+2*b1_1-1)                                                                                                                                                                   \n",
       " Dict{Array{Int64,1},Giac.giac}([0,1]=>6*b2_0*b1_1+3*b2_0*b2_1+3*b1_1*b1_0-2*b1_1-2*b2_1,[2]=>3*b2_2+3*b1_2-1)                                                                                                          \n",
       " Dict{Array{Int64,1},Giac.giac}([3]=>4*b2_3+4*b1_3-1,[0,0,1]=>12*b1_1*b2_0^2+12*b1_1*b2_0*b1_0-6*b1_1*b2_0+4*b1_1*b1_0^2-3*b1_1*b1_0+4*b2_0^2*b2_1-3*b2_0*b2_1,[0,2]=>3*(4*b2_0*b1_2+2*b2_0*b2_2+2*b1_2*b1_0-b1_2-b2_2))"
      ]
     },
     "execution_count": 12,
     "metadata": {},
     "output_type": "execute_result"
    }
   ],
   "source": [
    "D = gen_CFET_order_conditions_without_redundancies(p,J)"
   ]
  },
  {
   "cell_type": "markdown",
   "metadata": {},
   "source": [
    "As an example we consider the following CFET of order 4:\n",
    "  $$(c_1, c_2)= \\left(\\frac{1}{2}-\\frac{\\sqrt{3}}{6}, \\frac{1}{2}+\\frac{\\sqrt{3}}{6}\\right),\\quad\n",
    "  (a_{11}, a_{12}) = \\left(\\frac{1}{4}+\\frac{\\sqrt{3}}{6}, \\frac{1}{4}-\\frac{\\sqrt{3}}{6}\\right),\\quad\n",
    "  (a_{21}, a_{22}) = \\left(\\frac{1}{4}-\\frac{\\sqrt{3}}{6}, \\frac{1}{4}+\\frac{\\sqrt{3}}{6}\\right)$$."
   ]
  },
  {
   "cell_type": "code",
   "execution_count": 13,
   "metadata": {
    "collapsed": false
   },
   "outputs": [
    {
     "data": {
      "text/plain": [
       "2-element Array{Giac.giac_SYMB,1}:\n",
       " 1/2-sqrt(3)/6\n",
       " 1/2+sqrt(3)/6"
      ]
     },
     "execution_count": 13,
     "metadata": {},
     "output_type": "execute_result"
    }
   ],
   "source": [
    "c = [1//2-sqrt(giac(3))/6, 1//2+sqrt(giac(3))/6]"
   ]
  },
  {
   "cell_type": "code",
   "execution_count": 14,
   "metadata": {
    "collapsed": false
   },
   "outputs": [
    {
     "data": {
      "text/plain": [
       "2-element Array{Array{T,N},1}:\n",
       " [1/4+sqrt(3)/6,1/4-sqrt(3)/6]\n",
       " [1/4-sqrt(3)/6,1/4+sqrt(3)/6]"
      ]
     },
     "execution_count": 14,
     "metadata": {},
     "output_type": "execute_result"
    }
   ],
   "source": [
    "a = Array[[1//4+sqrt(giac(3))/6, 1//4-sqrt(giac(3))/6],\n",
    "          [1//4-sqrt(giac(3))/6, 1//4+sqrt(giac(3))/6]]"
   ]
  },
  {
   "cell_type": "markdown",
   "metadata": {},
   "source": [
    "The corresponding coefficients $b_{jk}=\\sum_l a_{jl}c_l^k$ are nice rational numbers:"
   ]
  },
  {
   "cell_type": "code",
   "execution_count": 15,
   "metadata": {
    "collapsed": false
   },
   "outputs": [
    {
     "data": {
      "text/plain": [
       "2-element Array{Array{T,N},1}:\n",
       " Any[1/2,1/12,0,-1/72]  \n",
       " Any[1/2,5/12,1/3,19/72]"
      ]
     },
     "execution_count": 15,
     "metadata": {},
     "output_type": "execute_result"
    }
   ],
   "source": [
    "b = [[simplify(sum([a[j][l]*c[l]^k for l=1:K])) for k=0:p-1] for j=1:J]"
   ]
  },
  {
   "cell_type": "code",
   "execution_count": 16,
   "metadata": {
    "collapsed": false
   },
   "outputs": [
    {
     "data": {
      "text/plain": [
       "2-element Array{Array{T,N},1}:\n",
       " Any[b1_0,b1_1,b1_2,b1_3]\n",
       " Any[b2_0,b2_1,b2_2,b2_3]"
      ]
     },
     "execution_count": 16,
     "metadata": {},
     "output_type": "execute_result"
    }
   ],
   "source": [
    "bb = [[giac(string(\"b\",j,\"_\",n)) for n=0:p-1] for  j=1:J]"
   ]
  },
  {
   "cell_type": "markdown",
   "metadata": {},
   "source": [
    "We substitute these values $b_{jk}$ into the expressions for $D^{(q)}, q=0\\dots, p-1$:"
   ]
  },
  {
   "cell_type": "code",
   "execution_count": 17,
   "metadata": {
    "collapsed": false
   },
   "outputs": [
    {
     "data": {
      "text/plain": [
       "4-element Array{Dict{Array{Int64,1},Int64},1}:\n",
       " Dict([0]=>0)                    \n",
       " Dict([1]=>0)                    \n",
       " Dict([0,1]=>0,[2]=>0)           \n",
       " Dict([3]=>0,[0,0,1]=>0,[0,2]=>0)"
      ]
     },
     "execution_count": 17,
     "metadata": {},
     "output_type": "execute_result"
    }
   ],
   "source": [
    "[Dict{Array{Int,1},Int}([key=>simplify(subst(subst(val, bb[1], b[1]), bb[2], b[2])) for (key,val) in D[q+1]]) for q=0:p-1]"
   ]
  },
  {
   "cell_type": "markdown",
   "metadata": {},
   "source": [
    "All coefficients are zero as required."
   ]
  },
  {
   "cell_type": "markdown",
   "metadata": {},
   "source": [
    "For the construction of a 'local error measure' (LEM) we compute $D^{(p)}(0)$:"
   ]
  },
  {
   "cell_type": "code",
   "execution_count": 18,
   "metadata": {
    "collapsed": false
   },
   "outputs": [
    {
     "data": {
      "text/plain": [
       "5-element Array{Dict{Array{Int64,1},Giac.giac},1}:\n",
       " Dict{Array{Int64,1},Giac.giac}([0]=>0)                                                                      \n",
       " Dict{Array{Int64,1},Giac.giac}([1]=>0)                                                                      \n",
       " Dict{Array{Int64,1},Giac.giac}([0,1]=>0,[2]=>0)                                                             \n",
       " Dict{Array{Int64,1},Giac.giac}([3]=>0,[0,0,1]=>0,[0,2]=>0)                                                  \n",
       " Dict{Array{Int64,1},Giac.giac}([0,3]=>1/9,[0,1,1]=>1/18,[4]=>-1/36,[1,2]=>1/6,[0,0,2]=>-1/6,[0,0,0,1]=>1/24)"
      ]
     },
     "execution_count": 18,
     "metadata": {},
     "output_type": "execute_result"
    }
   ],
   "source": [
    "Dnext = gen_CFET_order_conditions_without_redundancies(p+1,J);\n",
    "bb = [[giac(string(\"b\",j,\"_\",n)) for n=0:p] for  j=1:J]\n",
    "vars = vcat(bb...)\n",
    "b = [[simplify(sum([a[j][l]*c[l]^k for l=1:K])) for k=0:p] for j=1:J]\n",
    "b = vcat(b[1], b[2])\n",
    "[Dict{Array{Int,1},giac}([key=>simplify(subst(val, vars, b)) for (key,val) in Dnext[q+1]]) for q=0:p]"
   ]
  },
  {
   "cell_type": "markdown",
   "metadata": {},
   "source": [
    "For the given method we compute the LEM:"
   ]
  },
  {
   "cell_type": "code",
   "execution_count": 19,
   "metadata": {
    "collapsed": false
   },
   "outputs": [
    {
     "data": {
      "text/plain": [
       "0.27110029577698797"
      ]
     },
     "execution_count": 19,
     "metadata": {},
     "output_type": "execute_result"
    }
   ],
   "source": [
    "norm([1/9,1/18,-1/36,1/6,-1/6,1/24])"
   ]
  },
  {
   "cell_type": "markdown",
   "metadata": {},
   "source": [
    "Now we try to find all solutions for $J=2$, $p=4$."
   ]
  },
  {
   "cell_type": "code",
   "execution_count": 20,
   "metadata": {
    "collapsed": false
   },
   "outputs": [
    {
     "data": {
      "text/plain": [
       "7-element Array{Giac.giac,1}:\n",
       " b2_0+b1_0-1                                                                                     \n",
       " 2*b2_1+2*b1_1-1                                                                                 \n",
       " 6*b2_0*b1_1+3*b2_0*b2_1+3*b1_1*b1_0-2*b1_1-2*b2_1                                               \n",
       " 3*b2_2+3*b1_2-1                                                                                 \n",
       " 4*b2_3+4*b1_3-1                                                                                 \n",
       " 12*b1_1*b2_0^2+12*b1_1*b2_0*b1_0-6*b1_1*b2_0+4*b1_1*b1_0^2-3*b1_1*b1_0+4*b2_0^2*b2_1-3*b2_0*b2_1\n",
       " 3*(4*b2_0*b1_2+2*b2_0*b2_2+2*b1_2*b1_0-b1_2-b2_2)                                               "
      ]
     },
     "execution_count": 20,
     "metadata": {},
     "output_type": "execute_result"
    }
   ],
   "source": [
    "eqs=vcat([collect(values(D[q])) for q=1:p]...)"
   ]
  },
  {
   "cell_type": "code",
   "execution_count": 21,
   "metadata": {
    "collapsed": false
   },
   "outputs": [
    {
     "data": {
      "text/plain": [
       "8-element Array{Any,1}:\n",
       " b1_0\n",
       " b1_1\n",
       " b1_2\n",
       " b1_3\n",
       " b2_0\n",
       " b2_1\n",
       " b2_2\n",
       " b2_3"
      ]
     },
     "execution_count": 21,
     "metadata": {},
     "output_type": "execute_result"
    }
   ],
   "source": [
    "bb = [[giac(string(\"b\",j,\"_\",n)) for n=0:p-1] for  j=1:J]\n",
    "vars = vcat(bb...)"
   ]
  },
  {
   "cell_type": "markdown",
   "metadata": {},
   "source": [
    "`Giac/solve` finds all solutions, they have one free parameter $b_{2,3}$ (for the CFET from above $b_{2,3}=\\frac{19}{72}$):\n"
   ]
  },
  {
   "cell_type": "code",
   "execution_count": 22,
   "metadata": {
    "collapsed": false
   },
   "outputs": [
    {
     "data": {
      "text/plain": [
       "8-element Array{Any,1}:\n",
       " 1//2       \n",
       " 1//12      \n",
       "  0         \n",
       "   -b2_3+1/4\n",
       " 1//2       \n",
       " 5//12      \n",
       " 1//3       \n",
       "   b2_3     "
      ]
     },
     "execution_count": 22,
     "metadata": {},
     "output_type": "execute_result"
    }
   ],
   "source": [
    "sols = to_julia(solve(eqs, vars))[1] "
   ]
  },
  {
   "cell_type": "markdown",
   "metadata": {},
   "source": [
    "For the construction of a 'local error measure' (LEM) we compute $D^{(p)}(0)$:"
   ]
  },
  {
   "cell_type": "code",
   "execution_count": 23,
   "metadata": {
    "collapsed": false
   },
   "outputs": [
    {
     "data": {
      "text/plain": [
       "Dict{Array{Int64,1},Giac.giac} with 6 entries:\n",
       "  [0,3]     => (-40*b2_3+11)/4\n",
       "  [0,1,1]   => 1/18\n",
       "  [4]       => 5*b1_4+5*b2_4-1\n",
       "  [1,2]     => 1/6\n",
       "  [0,0,2]   => -1/6\n",
       "  [0,0,0,1] => 1/24"
      ]
     },
     "execution_count": 23,
     "metadata": {},
     "output_type": "execute_result"
    }
   ],
   "source": [
    "Dnext = gen_CFET_order_conditions_without_redundancies(p+1,J);\n",
    "Dict{Array{Int,1},giac}([key=>simplify(subst(val, vars, sols)) for (key,val) in Dnext[p+1]])"
   ]
  },
  {
   "cell_type": "markdown",
   "metadata": {
    "collapsed": true
   },
   "source": [
    "If we could manage to get zero for the not yet determined elements `(-40*b2_3+11)/4` and `5*b1_4+5*b2_4-1`, the\n",
    "corresponding LEM would be:"
   ]
  },
  {
   "cell_type": "code",
   "execution_count": 24,
   "metadata": {
    "collapsed": false
   },
   "outputs": [
    {
     "data": {
      "text/plain": [
       "0.24571952795769628"
      ]
     },
     "execution_count": 24,
     "metadata": {},
     "output_type": "execute_result"
    }
   ],
   "source": [
    "norm([0,1/18,0,1/6,-1/6,1/24])"
   ]
  },
  {
   "cell_type": "markdown",
   "metadata": {},
   "source": [
    "This is not much smaller than the LEM=0.27110029577698797 of the method from above. Therefore, it seems that  further optimization for the case $J=K=2, p=4$ is not worth the trouble."
   ]
  },
  {
   "cell_type": "code",
   "execution_count": null,
   "metadata": {
    "collapsed": true
   },
   "outputs": [],
   "source": []
  }
 ],
 "metadata": {
  "kernelspec": {
   "display_name": "Julia 0.4.5",
   "language": "julia",
   "name": "julia-0.4"
  },
  "language_info": {
   "file_extension": ".jl",
   "mimetype": "application/julia",
   "name": "julia",
   "version": "0.4.5"
  }
 },
 "nbformat": 4,
 "nbformat_minor": 0
}
