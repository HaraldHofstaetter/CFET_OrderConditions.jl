{
 "cells": [
  {
   "cell_type": "code",
   "execution_count": 1,
   "metadata": {
    "collapsed": false
   },
   "outputs": [
    {
     "name": "stderr",
     "output_type": "stream",
     "text": [
      "WARNING: Method definition factorial(#T<:Integer, #T<:Integer) in module Base at combinatorics.jl:56 overwritten in module Combinatorics at /home/hofi/.julia/v0.4/Combinatorics/src/factorials.jl:18.\n",
      "WARNING: Method definition factorial(Integer, Integer) in module Base at combinatorics.jl:66 overwritten in module Combinatorics at /home/hofi/.julia/v0.4/Combinatorics/src/factorials.jl:28.\n",
      "WARNING: Method definition combinations(Any, Integer) in module Base at combinatorics.jl:182 overwritten in module Combinatorics at /home/hofi/.julia/v0.4/Combinatorics/src/combinations.jl:42.\n",
      "WARNING: Method definition permutations(Any) in module Base at combinatorics.jl:219 overwritten in module Combinatorics at /home/hofi/.julia/v0.4/Combinatorics/src/permutations.jl:24.\n",
      "WARNING: Method definition nthperm!(AbstractArray{T<:Any, 1}, Integer) in module Base at combinatorics.jl:70 overwritten in module Combinatorics at /home/hofi/.julia/v0.4/Combinatorics/src/permutations.jl:136.\n",
      "WARNING: Method definition nthperm(AbstractArray{T<:Any, 1}, Integer) in module Base at combinatorics.jl:89 overwritten in module Combinatorics at /home/hofi/.julia/v0.4/Combinatorics/src/permutations.jl:157.\n",
      "WARNING: Method definition nthperm(AbstractArray{#T<:Integer, 1}) in module Base at combinatorics.jl:92 overwritten in module Combinatorics at /home/hofi/.julia/v0.4/Combinatorics/src/permutations.jl:161.\n",
      "WARNING: Method definition levicivita(AbstractArray{#T<:Integer, 1}) in module Base at combinatorics.jl:611 overwritten in module Combinatorics at /home/hofi/.julia/v0.4/Combinatorics/src/permutations.jl:188.\n",
      "WARNING: Method definition parity(AbstractArray{#T<:Integer, 1}) in module Base at combinatorics.jl:642 overwritten in module Combinatorics at /home/hofi/.julia/v0.4/Combinatorics/src/permutations.jl:221.\n",
      "WARNING: Method definition partitions(Integer) in module Base at combinatorics.jl:252 overwritten in module Combinatorics at /home/hofi/.julia/v0.4/Combinatorics/src/partitions.jl:26.\n",
      "WARNING: Method definition partitions(Integer, Integer) in module Base at combinatorics.jl:318 overwritten in module Combinatorics at /home/hofi/.julia/v0.4/Combinatorics/src/partitions.jl:93.\n",
      "WARNING: Method definition partitions(AbstractArray{T<:Any, 1}) in module Base at combinatorics.jl:380 overwritten in module Combinatorics at /home/hofi/.julia/v0.4/Combinatorics/src/partitions.jl:158.\n",
      "WARNING: Method definition partitions(AbstractArray{T<:Any, 1}, Int64) in module Base at combinatorics.jl:447 overwritten in module Combinatorics at /home/hofi/.julia/v0.4/Combinatorics/src/partitions.jl:228.\n",
      "WARNING: Method definition prevprod(Array{Int64, 1}, Any) in module Base at combinatorics.jl:565 overwritten in module Combinatorics at /home/hofi/.julia/v0.4/Combinatorics/src/partitions.jl:354.\n"
     ]
    }
   ],
   "source": [
    "using OrderConditions"
   ]
  },
  {
   "cell_type": "markdown",
   "metadata": {},
   "source": [
    "It holds\n",
    "$$\\left(\\frac{d}{dt}\\right)^k\\mathrm{e}^{tB(t)} = \\mathcal{C}_k(t)\\mathrm{e}^{tB(t)},$$\n",
    "where $C_k$ satisfies the recursion\n",
    "$$\\mathcal{C}_0(t)=\\mathrm{Id},\\quad\\mathcal{C}_1(t) = C(t),\\qquad \\mathcal{C}_k(t)=\\mathcal{C}_{k-1}(t)\\cdot C(t)+\\frac{d}{dt}\\mathcal{C}_{k-1}(t)$$\n",
    "with\n",
    "$$C(t) = B(t)+\\sum_{k=0}^{\\infty}\\frac{t^{k+1}}{(k+1)!}\\mathrm{ad}_{B(t)}(B'(t)).$$\n",
    "\n",
    "The following function implements this recursion:"
   ]
  },
  {
   "cell_type": "code",
   "execution_count": 2,
   "metadata": {
    "collapsed": false
   },
   "outputs": [
    {
     "data": {
      "text/plain": [
       "5-element Array{Dict{Array{Int64,1},Int64},1}:\n",
       " Dict(Int64[]=>1)                                                                     \n",
       " Dict([0]=>1)                                                                         \n",
       " Dict([1]=>1,[0,0]=>1)                                                                \n",
       " Dict([0,1]=>1,[2]=>1,[1,0]=>2,[0,0,0]=>1)                                            \n",
       " Dict([3]=>1,[2,0]=>3,[0,0,1]=>1,[1,1]=>3,[0,1,0]=>2,[1,0,0]=>3,[0,0,0,0]=>1,[0,2]=>1)"
      ]
     },
     "execution_count": 2,
     "metadata": {},
     "output_type": "execute_result"
    }
   ],
   "source": [
    "gen_exp_tBt_derivatives_coeffs(4)"
   ]
  },
  {
   "cell_type": "markdown",
   "metadata": {},
   "source": [
    "Here, the keys Int64[], [0], [1], [0,0], [0,1], ... correspond respectively to  $\\mathrm{Id}, C(t), C'(t), C(t)^2, C(t)\\cdot C'(t),\\dots$,\n",
    "and the values are the corresponding coefficients,  \n",
    "such that\n",
    "(arguments of $\\mathcal{C}_k(t), C(t), C'(t), \\dots$ ommited)\n",
    "$$\\mathcal{C}_0 = \\mathrm{Id},$$\n",
    "$$\\mathcal{C}_1 = C,$$\n",
    "$$\\mathcal{C}_2 = C^2+ C',$$\n",
    "$$\\mathcal{C}_3 = C^3 +2C'C+ CC'+C'',$$\n",
    "$$\\mathcal{C}_4 = C^4 +3C'C^2+C^2C'+2CC'C+3C''C+CC''+C'''.$$"
   ]
  },
  {
   "cell_type": "markdown",
   "metadata": {},
   "source": [
    "It holds $C(0)=B(0)$, and for the derivatives of $C(t)$ evaluated at $t=0$ it holds\n",
    "$$C^{(n)}(0) = B^{(n)}(0) +\\sum_{k=0}^{n-1}{n \\choose k+1}\\left[\\left(\\frac{d}{dt}\\right)^{n-k-1}\\mathrm{ad}_{B(t)}^k(B'(t))\\right]_{t=0},\\quad n=1,2,\\dots.$$\n",
    "The following function computes these derivatives:"
   ]
  },
  {
   "cell_type": "code",
   "execution_count": 3,
   "metadata": {
    "collapsed": false
   },
   "outputs": [
    {
     "data": {
      "text/plain": [
       "5-element Array{Dict{Array{Int64,1},Int64},1}:\n",
       " Dict([0]=>1)                                                     \n",
       " Dict([1]=>2)                                                     \n",
       " Dict([0,1]=>1,[2]=>3)                                            \n",
       " Dict([3]=>4,[0,0,1]=>1,[0,2]=>3)                                 \n",
       " Dict([1,0,1]=>4,[0,3]=>6,[4]=>5,[1,2]=>6,[0,0,2]=>4,[0,0,0,1]=>1)"
      ]
     },
     "execution_count": 3,
     "metadata": {},
     "output_type": "execute_result"
    }
   ],
   "source": [
    "gen_C_derivatives_at_0(4)"
   ]
  },
  {
   "cell_type": "markdown",
   "metadata": {},
   "source": [
    "Here, the keys [0], [1], [0,1], [0,0,1], [0,2]... correspond respectively to iterated commutators \n",
    "$B(0), B'(0), [B(0),B'(0)], [B(0),[B(0),B'(0)]], [B(0),B''(0)],\\dots$, and the values are the corresponding coefficients, such that (argument 0 ommited):\n",
    "$$C=B,$$\n",
    "$$C'=2B',$$\n",
    "$$C''=3B''+[B,B'],$$\n",
    "$$C'''=4B'''+3[B,B'']+[B,[B,B']],$$\n",
    "$$C^{(4)}=5B^{(4)}+6[B',B'']+6[B,B''']+4[B',[B,B']]+4[B,[B,B'']]+[B,[B,[B,B']]].$$"
   ]
  },
  {
   "cell_type": "code",
   "execution_count": 4,
   "metadata": {
    "collapsed": true
   },
   "outputs": [],
   "source": [
    "using Giac"
   ]
  },
  {
   "cell_type": "code",
   "execution_count": 5,
   "metadata": {
    "collapsed": false
   },
   "outputs": [
    {
     "data": {
      "text/plain": [
       "(2,2,4)"
      ]
     },
     "execution_count": 5,
     "metadata": {},
     "output_type": "execute_result"
    }
   ],
   "source": [
    "J, K, N = 2, 2, 4"
   ]
  },
  {
   "cell_type": "markdown",
   "metadata": {},
   "source": [
    "Substitute \n",
    "$$B^{(n)}=b_nA^{(n)},\\quad b_n=\\sum_{l}a_lc_l^n$$\n",
    "in the above equations for $C, C',C''',...$: "
   ]
  },
  {
   "cell_type": "code",
   "execution_count": 6,
   "metadata": {
    "collapsed": false
   },
   "outputs": [
    {
     "data": {
      "text/plain": [
       "5-element Array{Giac.giac,1}:\n",
       " b0\n",
       " b1\n",
       " b2\n",
       " b3\n",
       " b4"
      ]
     },
     "execution_count": 6,
     "metadata": {},
     "output_type": "execute_result"
    }
   ],
   "source": [
    "b = giac[giac(string(\"b\",k)) for k=0:N] "
   ]
  },
  {
   "cell_type": "code",
   "execution_count": 7,
   "metadata": {
    "collapsed": false
   },
   "outputs": [
    {
     "data": {
      "text/plain": [
       "5-element Array{Dict{Array{Int64,1},Giac.giac},1}:\n",
       " Dict{Array{Int64,1},Giac.giac}([0]=>b0)                                                                                         \n",
       " Dict{Array{Int64,1},Giac.giac}([1]=>2*b1)                                                                                       \n",
       " Dict{Array{Int64,1},Giac.giac}([0,1]=>b1*b0,[2]=>3*b2)                                                                          \n",
       " Dict{Array{Int64,1},Giac.giac}([3]=>4*b3,[0,0,1]=>b0^2*b1,[0,2]=>3*b2*b0)                                                       \n",
       " Dict{Array{Int64,1},Giac.giac}([1,0,1]=>4*b1^2*b0,[0,3]=>6*b3*b0,[4]=>5*b4,[1,2]=>6*b2*b1,[0,0,2]=>4*b0^2*b2,[0,0,0,1]=>b0^3*b1)"
      ]
     },
     "execution_count": 7,
     "metadata": {},
     "output_type": "execute_result"
    }
   ],
   "source": [
    "C = gen_C_derivatives_at_0_in_terms_of_A(N, b)\n",
    "C = [Dict{Array{Int64,1},Giac.giac}([key=>factor(val) for (key,val) in c]) for c in C]"
   ]
  },
  {
   "cell_type": "markdown",
   "metadata": {},
   "source": [
    "Now the keys [0], [1], [0,1], [0,0,1], [0,2]... correspond respectively to iterated commutators \n",
    "$A(0), A'(0), [A(0),A'(0)], [A(0),[A(0),A'(0)]], [A(0),A''(0)],\\dots$, and the values are the corresponding coefficients (which are Giac expressions), such that (argument 0 ommited):\n",
    "$$C_j = b_0A,$$\n",
    "$$C_j' = 2b_1 A',$$\n",
    "$$C_j'' = 3b_2 A''+b_0b_1[A,A'],$$\n",
    "$$C_j''' = 4b_3A''' +3b_0b_2[A,A'']+b_0^2b_1[A,[A,A']],$$\n",
    "$$C^{(4)}=5b_4A^{(4)}+6b_1b_2[A',A'']+6b_0b_3[A,A''']+4b_1^2b_0[A',[A,A']]+4b_0^2b_2[A,[A,A'']]+b_0^3b_1[A,[A,[A,A']]].$$"
   ]
  },
  {
   "cell_type": "markdown",
   "metadata": {},
   "source": [
    "Here we substitute $b_n=\\sum_{l}a_lc_l^n$:"
   ]
  },
  {
   "cell_type": "code",
   "execution_count": 8,
   "metadata": {
    "collapsed": false
   },
   "outputs": [],
   "source": [
    "a = [giac[giac(string(\"a\",j,k)) for k=1:K] for j=1:J];\n",
    "c = giac[giac(string(\"c\",k)) for k=1:K]; "
   ]
  },
  {
   "cell_type": "code",
   "execution_count": 9,
   "metadata": {
    "collapsed": false
   },
   "outputs": [
    {
     "data": {
      "text/plain": [
       "5-element Array{Giac.giac,1}:\n",
       " a11+a12          \n",
       " a11*c1+a12*c2    \n",
       " a11*c1^2+a12*c2^2\n",
       " a11*c1^3+a12*c2^3\n",
       " a11*c1^4+a12*c2^4"
      ]
     },
     "execution_count": 9,
     "metadata": {},
     "output_type": "execute_result"
    }
   ],
   "source": [
    "bb = giac[sum([a[1][j]*c[j]^n for j=1:J]) for n=0:N]"
   ]
  },
  {
   "cell_type": "code",
   "execution_count": 10,
   "metadata": {
    "collapsed": false
   },
   "outputs": [
    {
     "data": {
      "text/plain": [
       "5-element Array{Dict{Array{Int64,1},Giac.giac},1}:\n",
       " Dict{Array{Int64,1},Giac.giac}([0]=>a11+a12)                                                                                                                                                                                                                           \n",
       " Dict{Array{Int64,1},Giac.giac}([1]=>2*(a11*c1+a12*c2))                                                                                                                                                                                                                 \n",
       " Dict{Array{Int64,1},Giac.giac}([0,1]=>(a11*c1+a12*c2)*(a11+a12),[2]=>3*(a11*c1^2+a12*c2^2))                                                                                                                                                                            \n",
       " Dict{Array{Int64,1},Giac.giac}([3]=>4*(a11*c1^3+a12*c2^3),[0,0,1]=>(a11+a12)^2*(a11*c1+a12*c2),[0,2]=>3*(a11*c1^2+a12*c2^2)*(a11+a12))                                                                                                                                 \n",
       " Dict{Array{Int64,1},Giac.giac}([1,0,1]=>4*(a11*c1+a12*c2)^2*(a11+a12),[0,3]=>6*(a11*c1^3+a12*c2^3)*(a11+a12),[4]=>5*(a11*c1^4+a12*c2^4),[1,2]=>6*(a11*c1^2+a12*c2^2)*(a11*c1+a12*c2),[0,0,2]=>4*(a11+a12)^2*(a11*c1^2+a12*c2^2),[0,0,0,1]=>(a11+a12)^3*(a11*c1+a12*c2))"
      ]
     },
     "execution_count": 10,
     "metadata": {},
     "output_type": "execute_result"
    }
   ],
   "source": [
    "[Dict{Array{Int64,1},Giac.giac}([key=>subst(val,b,bb) for (key,val) in c]) for c in C]"
   ]
  },
  {
   "cell_type": "markdown",
   "metadata": {},
   "source": [
    "Again, the keys [0], [1], [0,1], [0,0,1], [0,2]... correspond respectively to iterated commutators \n",
    "$A(0), A'(0), [A(0),A'(0)], [A(0),[A(0),A'(0)]], [A(0),A''(0)],\\dots$, and the values are the corresponding coefficients (which are Giac expressions), such that (argument 0 ommited):\n",
    "$$C_j = (a_{j1}+a_{j2})A,$$\n",
    "$$C_j' = 2(a_{j1}c_1+a_{j2}c_2)A',$$\n",
    "$$C_j'' = 3(a_{j1}c_1^2+a_{j2}c_2^2)A''+(a_{j1}+a_{j2})(a_{j1}c_1+a_{j2}c_2)[A,A']$$"
   ]
  },
  {
   "cell_type": "markdown",
   "metadata": {},
   "source": [
    "Now we can compute\n",
    "$$\\left[\\left(\\frac{d}{dt}\\right)^k\\mathrm{e}^{tB(t)}\\right]_{t=0} = \\big[\\mathcal{C}_{k}(t)\\mathrm{e}^{tB(t)}\\big]_{t=0}=\\mathcal{C}_{k}(0),\\quad k=1,2,\\dots$$\n",
    "with the $\\mathcal{C}_k$ form above. For $k=0$ it holds $\\left[\\mathrm{e}^{tB(t)}\\right]_{t=0}=\\mathrm{Id}$ of course."
   ]
  },
  {
   "cell_type": "code",
   "execution_count": 11,
   "metadata": {
    "collapsed": false,
    "scrolled": true
   },
   "outputs": [
    {
     "data": {
      "text/plain": [
       "5-element Array{Dict{Array{Array{Int64,1},1},Giac.giac},1}:\n",
       " Dict{Array{Array{Int64,1},1},Giac.giac}([Int64[]]=>1)                                                                                                                                                                                                                                           \n",
       " Dict{Array{Array{Int64,1},1},Giac.giac}([[0]]=>b0)                                                                                                                                                                                                                                              \n",
       " Dict{Array{Array{Int64,1},1},Giac.giac}([[1]]=>2*b1,[[0],[0]]=>b0^2)                                                                                                                                                                                                                            \n",
       " Dict{Array{Array{Int64,1},1},Giac.giac}([[0,1]]=>b1*b0,[[2]]=>3*b2,[[1],[0]]=>4*b0*b1,[[0],[0],[0]]=>b0^3,[[0],[1]]=>2*b1*b0)                                                                                                                                                                   \n",
       " Dict{Array{Array{Int64,1},1},Giac.giac}([[0],[1],[0]]=>4*b0^2*b1,[[0],[2]]=>3*b2*b0,[[2],[0]]=>9*b0*b2,[[1],[0],[0]]=>6*b0^2*b1,[[1],[1]]=>12*b1^2,[[0],[0],[0],[0]]=>b0^4,[[0],[0,1]]=>b0^2*b1,[[0,1],[0]]=>3*b0^2*b1,[[3]]=>4*b3,[[0,0,1]]=>b0^2*b1,[[0,2]]=>3*b2*b0,[[0],[0],[1]]=>2*b0^2*b1)"
      ]
     },
     "execution_count": 11,
     "metadata": {},
     "output_type": "execute_result"
    }
   ],
   "source": [
    "C = gen_exp_tBt_derivatives_at_0_in_terms_of_A(N, b)\n",
    "C = [Dict{Array{Array{Int64,1},1},Giac.giac}([key=>factor(val) for (key,val) in c]) for c in C]"
   ]
  },
  {
   "cell_type": "markdown",
   "metadata": {},
   "source": [
    "The output is to be interpreted as follows (argument 0 ommited):\n",
    "$$\\mathcal{C}_{0} = \\mathrm{Id},$$\n",
    "$$\\mathcal{C}_{1} = b_0A,$$\n",
    "$$\\mathcal{C}_{2} = 2b_1A'+ b_0^2A^2,$$\n",
    "$$\\mathcal{C}_{3} = 3b_2A''+b_0b_1[A,A']+4b_0b_1A'A+2b_0b_1AA'+b_0^3A^3$$\n",
    "$$\\mathcal{C}_{4} = 4b_3A'''+3b_0b_2AA''+9b_0b_2A''A+3b_0b_2[A,A'']+4b_0^2b_1AA'A+6b_0^2b_1A'A^2+2b_0^2b_1A^2A'+12b_1^2(A')^2\n",
    "+b_0^2b_1A[A,A']+3b_0^2b_1[A,A']A+b_0^2b_1[A,[A,A']]+b_0^4A^4.$$\n",
    "Here it seems reasonable to expand all commutators, because the expanded terms are present in the expressions anyway."
   ]
  },
  {
   "cell_type": "code",
   "execution_count": 12,
   "metadata": {
    "collapsed": false
   },
   "outputs": [
    {
     "data": {
      "text/plain": [
       "5-element Array{Dict{Array{Array{Int64,1},1},Giac.giac},1}:\n",
       " Dict{Array{Array{Int64,1},1},Giac.giac}([Int64[]]=>1)                                                                                                                                                           \n",
       " Dict{Array{Array{Int64,1},1},Giac.giac}([[0]]=>b0)                                                                                                                                                              \n",
       " Dict{Array{Array{Int64,1},1},Giac.giac}([[1]]=>2*b1,[[0],[0]]=>b0^2)                                                                                                                                            \n",
       " Dict{Array{Array{Int64,1},1},Giac.giac}([[1],[0]]=>3*b1*b0,[[2]]=>3*b2,[[0],[0],[0]]=>b0^3,[[0],[1]]=>3*b0*b1)                                                                                                  \n",
       " Dict{Array{Array{Int64,1},1},Giac.giac}([[0],[0],[0],[0]]=>b0^4,[[1],[0],[0]]=>4*b0^2*b1,[[0],[0],[1]]=>4*b0^2*b1,[[3]]=>4*b3,[[0],[1],[0]]=>4*b0^2*b1,[[1],[1]]=>12*b1^2,[[0],[2]]=>6*b0*b2,[[2],[0]]=>6*b0*b2)"
      ]
     },
     "execution_count": 12,
     "metadata": {},
     "output_type": "execute_result"
    }
   ],
   "source": [
    "C = [expand_commutators(c) for c in C]\n",
    "C = [Dict{Array{Array{Int64,1},1},Giac.giac}([key=>factor(val) for (key,val) in c]) for c in C]"
   ]
  },
  {
   "cell_type": "markdown",
   "metadata": {},
   "source": [
    "The output is to be interpreted as follows (argument 0 ommited):\n",
    "$$\\mathcal{C}_{0} = \\mathrm{Id},$$\n",
    "$$\\mathcal{C}_{1} = b_0A,$$\n",
    "$$\\mathcal{C}_{2} = 2b_1A'+ b_0^2A^2,$$\n",
    "$$\\mathcal{C}_{3} = 3b_2A''+3b_0b_1A'A+3b_0b_1AA'+b_0^3A^3,$$\n",
    "$$\\mathcal{C}_{4} = 4b_3A'''+6b_0b_2A''A+6b_0b_2AA''+12b_1^2(A')^2+4b_0^2b_1A'A^2+4b_0^2b_1AA'A+4b_0^2b_1A^2A'+b_0^4A^4$$"
   ]
  },
  {
   "cell_type": "markdown",
   "metadata": {},
   "source": [
    "Numerical method:\n",
    "$$S(t) = \\prod_{j=J,\\dots,1}\\mathrm{e}^{tB_j(t)}.$$\n",
    "Defect:\n",
    "$$D(t) = \\frac{d}{dt}S(t)-A(t)S(t).$$\n",
    "Derivatives of the defect are calculated using the Leibniz formula for higher derivatives:\n",
    "$$D^{(q)}(t) = \\sum_{\\mathbf{k}=(k_1,\\dots,k_J)\\atop |\\mathbf{k}|=q+1}{q+1 \\choose \\mathbf{k}}\\prod_{j=J,\\dots,1}\\left(\\frac{d}{dt}\\right)^{k_j}\\mathrm{e}^{tB_j(t)}-\n",
    "\\sum_{\\mathbf{k}=(k_1,\\dots,k_{J+1})\\atop |\\mathbf{k}|=q}{q \\choose \\mathbf{k}}A^{(k_{J+1})}(t)\\prod_{j=J,\\dots,1}\\left(\\frac{d}{dt}\\right)^{k_j}\\mathrm{e}^{tB_j(t)}.\n",
    "$$\n",
    "\n",
    "Substituting $\\left(\\frac{d}{dt}\\right)^k\\mathrm{e}^{tB_j(t)} = \\mathcal{C}_{j,k}(t)\\mathrm{e}^{tB_j(t)}$ followed\n",
    "by an evaluation at $t=0$ yields\n",
    "$$D^{(q)}(0) = \\sum_{\\mathbf{k}=(k_1,\\dots,k_J)\\atop |\\mathbf{k}|=q+1}{q+1 \\choose \\mathbf{k}}\\prod_{j=J,\\dots,1}\\mathcal{C}_{j,k_j}(0)-\\sum_{\\mathbf{k}=(k_1,\\dots,k_{J+1})\\atop |\\mathbf{k}|=q}{q \\choose \\mathbf{k}}A^{(k_{J+1})}(0)\\prod_{j=J,\\dots,1}\\mathcal{C}_{j,k_j}(0).$$"
   ]
  },
  {
   "cell_type": "code",
   "execution_count": null,
   "metadata": {
    "collapsed": true
   },
   "outputs": [],
   "source": []
  }
 ],
 "metadata": {
  "kernelspec": {
   "display_name": "Julia 0.4.5",
   "language": "julia",
   "name": "julia-0.4"
  },
  "language_info": {
   "file_extension": ".jl",
   "mimetype": "application/julia",
   "name": "julia",
   "version": "0.4.5"
  }
 },
 "nbformat": 4,
 "nbformat_minor": 0
}
